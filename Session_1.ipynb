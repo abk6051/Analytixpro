{
  "nbformat": 4,
  "nbformat_minor": 0,
  "metadata": {
    "kernelspec": {
      "display_name": "Python 3",
      "language": "python",
      "name": "python3"
    },
    "language_info": {
      "codemirror_mode": {
        "name": "ipython",
        "version": 3
      },
      "file_extension": ".py",
      "mimetype": "text/x-python",
      "name": "python",
      "nbconvert_exporter": "python",
      "pygments_lexer": "ipython3",
      "version": "3.7.3"
    },
    "colab": {
      "name": "Session_1.ipynb",
      "version": "0.3.2",
      "provenance": [],
      "include_colab_link": true
    }
  },
  "cells": [
    {
      "cell_type": "markdown",
      "metadata": {
        "id": "view-in-github",
        "colab_type": "text"
      },
      "source": [
        "<a href=\"https://colab.research.google.com/github/alokproc/Analytixpro/blob/master/Session_1.ipynb\" target=\"_parent\"><img src=\"https://colab.research.google.com/assets/colab-badge.svg\" alt=\"Open In Colab\"/></a>"
      ]
    },
    {
      "cell_type": "markdown",
      "metadata": {
        "id": "hJxk77ngtPAa",
        "colab_type": "text"
      },
      "source": [
        "## Python Basics"
      ]
    },
    {
      "cell_type": "markdown",
      "metadata": {
        "id": "agglWONttPAc",
        "colab_type": "text"
      },
      "source": [
        "#### Print Statement"
      ]
    },
    {
      "cell_type": "code",
      "metadata": {
        "id": "I4Fqk4OztPAe",
        "colab_type": "code",
        "colab": {},
        "outputId": "78b30e62-90ee-4697-8995-0b679c852ae7"
      },
      "source": [
        "# A simple print statement is \n",
        "print ('hello world') #whatever message you want to print is given in quotes (single/double)\n",
        "# if you want to print the varible value, pass the name of the variable without any quotes\n",
        "print_ = 'python demo' #print_ is a varibale having value 'python demo'\n",
        "print (print_)"
      ],
      "execution_count": 0,
      "outputs": [
        {
          "output_type": "stream",
          "text": [
            "hello world\n",
            "python demo\n"
          ],
          "name": "stdout"
        }
      ]
    },
    {
      "cell_type": "markdown",
      "metadata": {
        "id": "oie4rIORtPAl",
        "colab_type": "text"
      },
      "source": [
        "#### Pyhton Variables and Keywords:"
      ]
    },
    {
      "cell_type": "markdown",
      "metadata": {
        "id": "MdywB4cftPAm",
        "colab_type": "text"
      },
      "source": [
        "Keywords are python specific words which has specific meaning to python interpreter. for eg (True, False, None, if, else, elif, def , for, while etc)\n",
        "\n",
        "Variables defines the memory location where any value assigned to the variable can be stored.\n",
        "\n",
        "Variable name can start with [A-z], [a-z] followed by digits [0-9] and underscore.\n",
        "Digits can't be starting of the name.\n",
        "And no special characters are allowed for naming the varaiable"
      ]
    },
    {
      "cell_type": "markdown",
      "metadata": {
        "id": "JykiyymctPAo",
        "colab_type": "text"
      },
      "source": [
        "Basically there are 3 types of literals in python"
      ]
    },
    {
      "cell_type": "markdown",
      "metadata": {
        "id": "xGgciLSotPAq",
        "colab_type": "text"
      },
      "source": [
        "1) Numeric  2) String  3) Boolean"
      ]
    },
    {
      "cell_type": "markdown",
      "metadata": {
        "id": "16ej82yvtPAr",
        "colab_type": "text"
      },
      "source": [
        "Numeric Literals can be either integers, float or complex"
      ]
    },
    {
      "cell_type": "markdown",
      "metadata": {
        "id": "4reci4fKtPAt",
        "colab_type": "text"
      },
      "source": [
        "##### Numeric Literals"
      ]
    },
    {
      "cell_type": "code",
      "metadata": {
        "id": "dZsIUa8-tPAu",
        "colab_type": "code",
        "colab": {},
        "outputId": "07effcfb-1299-4d4b-e39a-1fcc7d144ece"
      },
      "source": [
        "x = 12 # stores an integer value\n",
        "type (x) #type(): use to check type of the value that is stored"
      ],
      "execution_count": 0,
      "outputs": [
        {
          "output_type": "execute_result",
          "data": {
            "text/plain": [
              "int"
            ]
          },
          "metadata": {
            "tags": []
          },
          "execution_count": 9
        }
      ]
    },
    {
      "cell_type": "code",
      "metadata": {
        "id": "qGM-JrvMtPAz",
        "colab_type": "code",
        "colab": {},
        "outputId": "68e5184b-aa10-4cfb-c60a-abba388bd641"
      },
      "source": [
        "x = 12.5 #stores a decimal value\n",
        "type(x)\n",
        "# In above eg we have used x to store 12 and here also we used the same x to store value 12.5, hence the variable value \n",
        "# is now modified to 12.5"
      ],
      "execution_count": 0,
      "outputs": [
        {
          "output_type": "execute_result",
          "data": {
            "text/plain": [
              "float"
            ]
          },
          "metadata": {
            "tags": []
          },
          "execution_count": 11
        }
      ]
    },
    {
      "cell_type": "code",
      "metadata": {
        "id": "_sJtih5utPA3",
        "colab_type": "code",
        "colab": {},
        "outputId": "a8a01c20-ab51-43d9-b0b1-fc1ec48d47f9"
      },
      "source": [
        "#In python we store complex values as a+bj\n",
        "comp_ = 3+4j\n",
        "type(comp_)"
      ],
      "execution_count": 0,
      "outputs": [
        {
          "output_type": "execute_result",
          "data": {
            "text/plain": [
              "complex"
            ]
          },
          "metadata": {
            "tags": []
          },
          "execution_count": 12
        }
      ]
    },
    {
      "cell_type": "markdown",
      "metadata": {
        "id": "GKtHjznstPA9",
        "colab_type": "text"
      },
      "source": [
        "##### Numeric Operators:"
      ]
    },
    {
      "cell_type": "code",
      "metadata": {
        "id": "adzRrM6-tPA_",
        "colab_type": "code",
        "colab": {},
        "outputId": "ce6d054d-f75f-4f53-ad9c-edc522f895b0"
      },
      "source": [
        "#Arithmatic Operators: (+,-,*,/,//,%)\n",
        "print (3+4) #addition\n",
        "print (5-2) #Subtraction\n",
        "print (6*2) #Multiplication\n",
        "print (8/4) #Division\n",
        "print (10//3) #Floor division (quotient is rounded off to nearest integer)\n",
        "print (14%3) #Returns the remainder of the division"
      ],
      "execution_count": 0,
      "outputs": [
        {
          "output_type": "stream",
          "text": [
            "7\n",
            "3\n",
            "12\n",
            "2.0\n",
            "3\n",
            "2\n"
          ],
          "name": "stdout"
        }
      ]
    },
    {
      "cell_type": "code",
      "metadata": {
        "id": "NNxf0WiUtPBE",
        "colab_type": "code",
        "colab": {},
        "outputId": "379fa853-76ba-46fc-fb17-8e716794d7d0"
      },
      "source": [
        "#comparision operators:\n",
        "#comparision operators compare the two values and return boolean (True and False)\n",
        "a = 9\n",
        "b = 3\n",
        "print (a > b) #greater then\n",
        "print (a < b) #less then\n",
        "print (a >= b) #greater then equal to\n",
        "print (a <= b) #less then equal to\n",
        "print (a != b) #Not equals to\n",
        "print (a == b) #equals to"
      ],
      "execution_count": 0,
      "outputs": [
        {
          "output_type": "stream",
          "text": [
            "True\n",
            "False\n",
            "True\n",
            "False\n",
            "True\n",
            "False\n"
          ],
          "name": "stdout"
        }
      ]
    },
    {
      "cell_type": "code",
      "metadata": {
        "id": "x9YYBMDitPBI",
        "colab_type": "code",
        "colab": {},
        "outputId": "47c97f19-4715-4e65-a614-fabd2d3b7cb4"
      },
      "source": [
        "# Assignment Operators:\n",
        "# it assigns the value to whatever variable on the left side\n",
        "a = 5 #assigning value to variable a\n",
        "b = 6 #assigning value to variable b\n",
        "a += b #assigning value to a after addition of b to it\n",
        "print (a)\n",
        "#Similarly we have a-=b , a*=b , a/=b, a//=b and a%=b"
      ],
      "execution_count": 0,
      "outputs": [
        {
          "output_type": "stream",
          "text": [
            "11\n"
          ],
          "name": "stdout"
        }
      ]
    },
    {
      "cell_type": "code",
      "metadata": {
        "id": "PNjTpgxHtPBP",
        "colab_type": "code",
        "colab": {},
        "outputId": "c0a95ff0-8c2d-44ab-df2a-e37dbdfc6901"
      },
      "source": [
        "#Logical operators: (and, or, not)\n",
        "#and returns true when all conditions with and are true for eg:\n",
        "a = 5\n",
        "b = 6 \n",
        "c = 'and check'\n",
        "print (a!=b and c=='and check') #since both conditions are True it returns True\n",
        "print (a==b and c=='and check') #since one condition is false it returns False\n",
        "#or return true if any of the conditions given is True for eg:\n",
        "print (a==b or c=='and check') #since any of the conditions given is true it returns true\n",
        "#not returns the inverse of true or false for eg\n",
        "print (not(True)) #inverse of true is false"
      ],
      "execution_count": 0,
      "outputs": [
        {
          "output_type": "stream",
          "text": [
            "True\n",
            "False\n",
            "True\n",
            "False\n"
          ],
          "name": "stdout"
        }
      ]
    },
    {
      "cell_type": "markdown",
      "metadata": {
        "id": "vP7Nw0o1tPBV",
        "colab_type": "text"
      },
      "source": [
        "#### Operator precedence:"
      ]
    },
    {
      "cell_type": "code",
      "metadata": {
        "id": "RWX8jTcRtPBW",
        "colab_type": "code",
        "colab": {}
      },
      "source": [
        "#In a given sequence of Expression operator precedence will be as follows:\n",
        "** #exponent\n",
        "*, /, //, % #multiply, divide, floor division, modulous\n",
        "+, - #Addition and subtraction\n",
        "<=, <, >, >= #comparison operators\n",
        "=, %=, /=, //=, -=,+=, *=, **= # Assignment operators\n",
        "and or not # Logical operators"
      ],
      "execution_count": 0,
      "outputs": []
    },
    {
      "cell_type": "markdown",
      "metadata": {
        "id": "7dzMZO2GtPBa",
        "colab_type": "text"
      },
      "source": [
        "#### String Operators:"
      ]
    },
    {
      "cell_type": "code",
      "metadata": {
        "id": "6GfBIApctPBc",
        "colab_type": "code",
        "colab": {},
        "outputId": "68ffd686-623a-4d9f-c97b-8eeb848e9db6"
      },
      "source": [
        "#A string is simply defined in single quotes or double quotes as follows: \n",
        "x = '   This is a demo string to show string operations    '\n",
        "print (x.lower()) #Converts string to lower case\n",
        "print (x.upper()) #converts string to upper case\n",
        "x.lstrip() #remove unwanted spaces from the left side"
      ],
      "execution_count": 0,
      "outputs": [
        {
          "output_type": "stream",
          "text": [
            "   this is a demo string to show string operations    \n",
            "   THIS IS A DEMO STRING TO SHOW STRING OPERATIONS    \n"
          ],
          "name": "stdout"
        },
        {
          "output_type": "execute_result",
          "data": {
            "text/plain": [
              "'This is a demo string to show string operations    '"
            ]
          },
          "metadata": {
            "tags": []
          },
          "execution_count": 6
        }
      ]
    },
    {
      "cell_type": "code",
      "metadata": {
        "id": "unXP4pf7tPBg",
        "colab_type": "code",
        "colab": {},
        "outputId": "135d08f2-84fe-4c11-82de-8d523b4c5979"
      },
      "source": [
        "x.rstrip() #remove unwanted spaces from the right side"
      ],
      "execution_count": 0,
      "outputs": [
        {
          "output_type": "execute_result",
          "data": {
            "text/plain": [
              "'   This is a demo string to show string operations'"
            ]
          },
          "metadata": {
            "tags": []
          },
          "execution_count": 7
        }
      ]
    },
    {
      "cell_type": "code",
      "metadata": {
        "id": "_2dRYAKTtPBk",
        "colab_type": "code",
        "colab": {},
        "outputId": "f7331295-78b4-4dcd-e07c-4f206ed85613"
      },
      "source": [
        "x.strip() #rmove unwanted spaces from both the sides"
      ],
      "execution_count": 0,
      "outputs": [
        {
          "output_type": "execute_result",
          "data": {
            "text/plain": [
              "'This is a demo string to show string operations'"
            ]
          },
          "metadata": {
            "tags": []
          },
          "execution_count": 9
        }
      ]
    },
    {
      "cell_type": "code",
      "metadata": {
        "id": "c_sBM7AvtPBo",
        "colab_type": "code",
        "colab": {},
        "outputId": "a61dc414-866a-443a-be2c-82ff7b929817"
      },
      "source": [
        "print (x.startswith('  ')) #checks whether the string starts with given initials and return boolean\n",
        "print (x.endswith('operations    ')) #checks whether string ends with given initials and return boolean"
      ],
      "execution_count": 0,
      "outputs": [
        {
          "output_type": "stream",
          "text": [
            "True\n",
            "True\n"
          ],
          "name": "stdout"
        }
      ]
    },
    {
      "cell_type": "code",
      "metadata": {
        "id": "5NLARZCktPBs",
        "colab_type": "code",
        "colab": {},
        "outputId": "a5ca8949-2dad-4898-a209-08fe6d66fd47"
      },
      "source": [
        "x.find('demo') #finds the given string in the whole string and returns its starting index"
      ],
      "execution_count": 0,
      "outputs": [
        {
          "output_type": "execute_result",
          "data": {
            "text/plain": [
              "13"
            ]
          },
          "metadata": {
            "tags": []
          },
          "execution_count": 17
        }
      ]
    },
    {
      "cell_type": "code",
      "metadata": {
        "id": "5G3D4oNatPBx",
        "colab_type": "code",
        "colab": {},
        "outputId": "75a01f9f-e14d-4109-ef64-9276b1aa8244"
      },
      "source": [
        "x.count('string') #counts the number of appeareances of a given string"
      ],
      "execution_count": 0,
      "outputs": [
        {
          "output_type": "execute_result",
          "data": {
            "text/plain": [
              "2"
            ]
          },
          "metadata": {
            "tags": []
          },
          "execution_count": 18
        }
      ]
    },
    {
      "cell_type": "code",
      "metadata": {
        "id": "6CZyODJjtPB1",
        "colab_type": "code",
        "colab": {},
        "outputId": "b8837c78-4298-483e-ee93-22e74074166f"
      },
      "source": [
        "x.replace('demo','actual') #replaces old string with the new string"
      ],
      "execution_count": 0,
      "outputs": [
        {
          "output_type": "execute_result",
          "data": {
            "text/plain": [
              "'   This is a actual string to show string operations    '"
            ]
          },
          "metadata": {
            "tags": []
          },
          "execution_count": 20
        }
      ]
    },
    {
      "cell_type": "code",
      "metadata": {
        "id": "Z47kZcKXtPB5",
        "colab_type": "code",
        "colab": {}
      },
      "source": [
        "p = x.split() #split the give string and returns a list "
      ],
      "execution_count": 0,
      "outputs": []
    },
    {
      "cell_type": "code",
      "metadata": {
        "id": "RSzc-TSCtPCD",
        "colab_type": "code",
        "colab": {},
        "outputId": "2067242e-41a7-4ac0-8390-7ebedb35e94b"
      },
      "source": [
        "'/'.join(p) #joins the splittede  elements by the delimiter given"
      ],
      "execution_count": 0,
      "outputs": [
        {
          "output_type": "execute_result",
          "data": {
            "text/plain": [
              "'This/is/a/demo/string/to/show/string/operations'"
            ]
          },
          "metadata": {
            "tags": []
          },
          "execution_count": 25
        }
      ]
    },
    {
      "cell_type": "code",
      "metadata": {
        "id": "WgAuFl2wtPCK",
        "colab_type": "code",
        "colab": {},
        "outputId": "26ea3555-13c9-4d3e-d66c-e461bf5954df"
      },
      "source": [
        "#Slicing: (Start:stop:step)\n",
        "#Gives a part of a string it takes three values, bascially the start is the starting point of the string (default is index 0 )\n",
        "#Stop is the ending point of part if not given default is the last of the string\n",
        "#value of step by default is 1\n",
        "y = 'This is a demo string to show string operations'\n",
        "#    0123456789\n",
        "print (y[0:])\n",
        "print (y[0:5])\n",
        "print (y[-10:])\n",
        "print (y[::-1])"
      ],
      "execution_count": 0,
      "outputs": [
        {
          "output_type": "stream",
          "text": [
            "This is a demo string to show string operations\n",
            "This \n",
            "operations\n",
            "snoitarepo gnirts wohs ot gnirts omed a si sihT\n"
          ],
          "name": "stdout"
        }
      ]
    },
    {
      "cell_type": "markdown",
      "metadata": {
        "id": "NWC5clgFtPCO",
        "colab_type": "text"
      },
      "source": [
        "#### Comments in python"
      ]
    },
    {
      "cell_type": "code",
      "metadata": {
        "id": "3WfYzbaEtPCP",
        "colab_type": "code",
        "colab": {}
      },
      "source": [
        "#In python comments are given by # and ''' '''.\n",
        "#for single line comment we use (#)\n",
        "#for multi-line comments we use (''' ''')\n",
        "#Comments are generally given to add some message with the code. Comments are not executed during execution of the code"
      ],
      "execution_count": 0,
      "outputs": []
    }
  ]
}