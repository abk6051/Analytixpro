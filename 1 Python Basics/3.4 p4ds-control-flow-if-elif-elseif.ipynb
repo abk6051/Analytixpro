{
 "cells": [
  {
   "cell_type": "code",
   "execution_count": 1,
   "metadata": {
    "collapsed": true
   },
   "outputs": [],
   "source": [
    "#######   CONTROL FLOW STATEMENTS  IF, ELIF AND ELSE  #######\n",
    "###  helps to execute a specific code when a condition is met \n",
    "###  eg  if (sales-expense > 0 ) then (print profit) \n",
    "###          if(sales-expense < 100) then (print gt than 100)\n",
    "###      else  do some other action\n",
    "###\n",
    "#### CONTROL FLOW RULES  #######\n",
    "### makes use of colons and indentation (whitespace)\n",
    "### indentation is critical to python and this is its USP (Unique Selling Proposition). This is why python is very readable  \n",
    "  \n",
    "             "
   ]
  },
  {
   "cell_type": "code",
   "execution_count": null,
   "metadata": {
    "collapsed": true
   },
   "outputs": [],
   "source": [
    "\n",
    "#### if/else statement\n",
    "####  if some_condition: and/or\n",
    "####    if some_sub_condition\n",
    "###       execute some code\n",
    "###   else:                        #### notice else does not have condition attached to it\n",
    "##3      do something else          ### also notice the : after if and else\n",
    "\n",
    "#### if/elif/else statement\n",
    "##### if some_condition:\n",
    "####      execute some code\n",
    "####      if (some_condi_1) \n",
    "####  elif some_other_condition:\n",
    "####      execute some other code\n",
    "####  elif some_other_conditions\n",
    "####  else:\n",
    "####       do something else \n",
    "\n",
    "####if country= 'india'\n",
    "###   \"perform some code\"\n",
    "### elif country = 'brazil'\n",
    "###        \"perform some code\"\n",
    "### elif country = 'korea'\n",
    "####       \"perform some code\"\n"
   ]
  },
  {
   "cell_type": "code",
   "execution_count": 1,
   "metadata": {},
   "outputs": [
    {
     "name": "stdout",
     "output_type": "stream",
     "text": [
      "Condition is True\n"
     ]
    }
   ],
   "source": [
    "if True:\n",
    "    print(\"Condition is True\")"
   ]
  },
  {
   "cell_type": "code",
   "execution_count": 2,
   "metadata": {},
   "outputs": [
    {
     "name": "stdout",
     "output_type": "stream",
     "text": [
      "True\n"
     ]
    }
   ],
   "source": [
    "if 3>2:\n",
    "    print(\"True\")"
   ]
  },
  {
   "cell_type": "code",
   "execution_count": 3,
   "metadata": {},
   "outputs": [
    {
     "name": "stdout",
     "output_type": "stream",
     "text": [
      "learn about If/elif/else\n"
     ]
    }
   ],
   "source": [
    "is_first_session = True\n",
    "if is_first_session:\n",
    "    print(\"learn about If/elif/else\")"
   ]
  },
  {
   "cell_type": "code",
   "execution_count": 5,
   "metadata": {
    "collapsed": true
   },
   "outputs": [],
   "source": [
    "is_first_session = False\n",
    "if is_first_session:\n",
    "    print(\"learn about If/elif/else\")"
   ]
  },
  {
   "cell_type": "code",
   "execution_count": 7,
   "metadata": {},
   "outputs": [
    {
     "name": "stdout",
     "output_type": "stream",
     "text": [
      "learn about If/elif/else\n"
     ]
    }
   ],
   "source": [
    "is_first_session = True\n",
    "\n",
    "if is_first_session:\n",
    "    print(\"learn about If/elif/else\")\n",
    "else:\n",
    "    print(\"learn file operations\")\n"
   ]
  },
  {
   "cell_type": "code",
   "execution_count": 9,
   "metadata": {},
   "outputs": [
    {
     "name": "stdout",
     "output_type": "stream",
     "text": [
      "you are in no mans land\n"
     ]
    }
   ],
   "source": [
    "destination = \"mountain\"\n",
    "\n",
    "if destination == \"school\":\n",
    "    print(\"you are a student \")\n",
    "elif destination == \"bank\":                 #### you can add lot of elf statemenmts\n",
    "      print(\"you are a banker\")             #### note indentation, if, elif and else are all indented\n",
    "elif destination == 'beach':\n",
    "    print(\"you are a beach boy\")\n",
    "else:\n",
    "    print (\"you are in no mans land\")\n",
    "    "
   ]
  },
  {
   "cell_type": "code",
   "execution_count": 11,
   "metadata": {},
   "outputs": [
    {
     "name": "stdout",
     "output_type": "stream",
     "text": [
      "X is less than Y\n"
     ]
    }
   ],
   "source": [
    "X=10\n",
    "Y=12\n",
    "\n",
    "if(X<Y):\n",
    "    print('X is less than Y')\n",
    "elif(X>Y):\n",
    "    print('X is greater than Y')\n",
    "else:\n",
    "    print('X and Y are equal')"
   ]
  },
  {
   "cell_type": "code",
   "execution_count": 14,
   "metadata": {},
   "outputs": [
    {
     "name": "stdout",
     "output_type": "stream",
     "text": [
      "Greater than 25\n"
     ]
    }
   ],
   "source": [
    "# If else statement\n",
    "a=30\n",
    "if(a<10):\n",
    "    print(\"Less than 10\")\n",
    "    if(10<=a<=25):\n",
    "        print(\"a is between 10 and 25\")\n",
    "else:\n",
    "    print(\"Greater than 25\")\n"
   ]
  },
  {
   "cell_type": "code",
   "execution_count": 3,
   "metadata": {},
   "outputs": [
    {
     "name": "stdout",
     "output_type": "stream",
     "text": [
      "Less than 10\n",
      "a is between 10 and 25\n"
     ]
    }
   ],
   "source": [
    "# If else statement\n",
    "a=20\n",
    "if(a<40):\n",
    "    print(\"Less than 10\")\n",
    "    if(10<=a<=20):\n",
    "        print(\"a is between 10 and 25\")\n",
    "else:\n",
    "    print(\"Greater than 25\")\n"
   ]
  },
  {
   "cell_type": "code",
   "execution_count": 16,
   "metadata": {},
   "outputs": [
    {
     "name": "stdout",
     "output_type": "stream",
     "text": [
      "Congratulations!! Well done\n"
     ]
    }
   ],
   "source": [
    "# if elif else\n",
    "\n",
    "marks=70\n",
    "if(marks<40):\n",
    "    print(\"Fail\")\n",
    "elif((40<marks<=60):\n",
    "    print(\"Average\")\n",
    "else:\n",
    "    print(\"Congratulations!! Well done\")\n"
   ]
  },
  {
   "cell_type": "code",
   "execution_count": null,
   "metadata": {
    "collapsed": true
   },
   "outputs": [],
   "source": []
  },
  {
   "cell_type": "code",
   "execution_count": null,
   "metadata": {
    "collapsed": true
   },
   "outputs": [],
   "source": []
  },
  {
   "cell_type": "code",
   "execution_count": null,
   "metadata": {
    "collapsed": true
   },
   "outputs": [],
   "source": []
  },
  {
   "cell_type": "code",
   "execution_count": null,
   "metadata": {
    "collapsed": true
   },
   "outputs": [],
   "source": []
  },
  {
   "cell_type": "code",
   "execution_count": null,
   "metadata": {
    "collapsed": true
   },
   "outputs": [],
   "source": []
  }
 ],
 "metadata": {
  "kernelspec": {
   "display_name": "Python 3",
   "language": "python",
   "name": "python3"
  },
  "language_info": {
   "codemirror_mode": {
    "name": "ipython",
    "version": 3
   },
   "file_extension": ".py",
   "mimetype": "text/x-python",
   "name": "python",
   "nbconvert_exporter": "python",
   "pygments_lexer": "ipython3",
   "version": "3.7.2"
  }
 },
 "nbformat": 4,
 "nbformat_minor": 2
}
