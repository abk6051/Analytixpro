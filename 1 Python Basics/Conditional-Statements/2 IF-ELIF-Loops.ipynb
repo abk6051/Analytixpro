{
 "cells": [
  {
   "cell_type": "markdown",
   "metadata": {},
   "source": [
    "#### IF ELIF ELSE STATEMENTS in Python\n",
    "\n",
    "PSUEDO\n",
    "If cond1:\n",
    "     execute some action1\n",
    "elif cond2:\n",
    "     execute some action2\n",
    "else:\n",
    "     execute some action3 \n",
    "\n",
    "in real environmeent - if Statements help in defining business and data rules "
   ]
  },
  {
   "cell_type": "code",
   "execution_count": 1,
   "metadata": {},
   "outputs": [
    {
     "name": "stdout",
     "output_type": "stream",
     "text": [
      "my first if\n"
     ]
    }
   ],
   "source": [
    "### simple example\n",
    "if True:\n",
    "    print('my first if')"
   ]
  },
  {
   "cell_type": "code",
   "execution_count": 8,
   "metadata": {},
   "outputs": [
    {
     "name": "stdout",
     "output_type": "stream",
     "text": [
      "X IS NOT 100\n"
     ]
    }
   ],
   "source": [
    "### example 2\n",
    "x = 200      # this is assignment of value to variable x\n",
    "if(x == 100):   ### this is checking or validating whether x = 100\n",
    "    print('x -IS 100')\n",
    "else:\n",
    "    print('X IS NOT 100')\n",
    "\n",
    "\n",
    "    \n",
    "\n",
    "    "
   ]
  },
  {
   "cell_type": "code",
   "execution_count": 10,
   "metadata": {},
   "outputs": [
    {
     "name": "stdout",
     "output_type": "stream",
     "text": [
      "welcome to Bank\n"
     ]
    }
   ],
   "source": [
    "location = 'Bank'\n",
    "if location == 'house':\n",
    "    print(\"welcome to house\")\n",
    "elif location == 'Bank':\n",
    "    print(\"welcome to Bank\")\n",
    "else:\n",
    "    print(\"dont know where you are!!!!\")\n",
    "\n"
   ]
  },
  {
   "cell_type": "code",
   "execution_count": 21,
   "metadata": {},
   "outputs": [
    {
     "name": "stdout",
     "output_type": "stream",
     "text": [
      "welcome to nestedif\n",
      "welcome to nestedif again\n",
      "welcome to firstif\n"
     ]
    }
   ],
   "source": [
    "### nested IF statements\n",
    "location = 'house'\n",
    "sub_location = 'apartmentno-3'\n",
    "\n",
    "if location == 'house':\n",
    "    if sub_location == 'apartmentno-3':\n",
    "        print('welcome to nestedif')\n",
    "        print('welcome to nestedif again')\n",
    "    else:\n",
    "        print('welcome to sublocation')\n",
    "        \n",
    "    print(\"welcome to firstif\")\n",
    "elif location == 'Bank':\n",
    "    print(\"welcome to elif\")\n",
    "else:\n",
    "    print(\"dont know where you are!!!!\")\n",
    "\n",
    "##location = \"newhouse\"\n",
    "#print(location)"
   ]
  },
  {
   "cell_type": "code",
   "execution_count": 24,
   "metadata": {},
   "outputs": [
    {
     "name": "stdout",
     "output_type": "stream",
     "text": [
      "true\n"
     ]
    }
   ],
   "source": [
    "if True: print('true')"
   ]
  },
  {
   "cell_type": "markdown",
   "metadata": {},
   "source": [
    "##### FOR LOOP\n"
   ]
  },
  {
   "cell_type": "code",
   "execution_count": 38,
   "metadata": {},
   "outputs": [
    {
     "name": "stdout",
     "output_type": "stream",
     "text": [
      "101\n",
      "102\n",
      "103\n",
      "104\n",
      "105\n",
      "106\n",
      "107\n",
      "108\n",
      "109\n",
      "110\n"
     ]
    }
   ],
   "source": [
    "### simple for loop\n",
    "forlist = [1,2,3,4,5,6,7,8,9,10]\n",
    "\n",
    "for num in forlist:         ### num is a user defined variable\n",
    "    num = num + 100\n",
    "    print(num)              #### every item from the list \"forlist\" gets read and moved to \"num\"\n",
    "                            #### num gets printed until the last item in the list \"forlist\""
   ]
  },
  {
   "cell_type": "code",
   "execution_count": 39,
   "metadata": {},
   "outputs": [
    {
     "name": "stdout",
     "output_type": "stream",
     "text": [
      "1\n",
      "2\n",
      "3\n",
      "4\n",
      "5\n",
      "6\n",
      "7\n",
      "8\n",
      "9\n",
      "10\n"
     ]
    }
   ],
   "source": [
    "for x in forlist:\n",
    "    print(x)"
   ]
  },
  {
   "cell_type": "code",
   "execution_count": null,
   "metadata": {},
   "outputs": [],
   "source": []
  },
  {
   "cell_type": "code",
   "execution_count": 32,
   "metadata": {},
   "outputs": [
    {
     "name": "stdout",
     "output_type": "stream",
     "text": [
      "110\n",
      "110\n",
      "110\n",
      "110\n",
      "110\n",
      "110\n",
      "110\n",
      "110\n",
      "110\n",
      "110\n"
     ]
    }
   ],
   "source": [
    "for x in forlist:\n",
    "    print(num)"
   ]
  },
  {
   "cell_type": "code",
   "execution_count": 37,
   "metadata": {},
   "outputs": [
    {
     "name": "stdout",
     "output_type": "stream",
     "text": [
      "101\n",
      "102\n",
      "103\n",
      "104\n",
      "105\n",
      "106\n",
      "107\n",
      "108\n",
      "109\n",
      "110\n"
     ]
    }
   ],
   "source": [
    "###\n",
    "x = 100\n",
    "for _ in forlist:\n",
    "    x = x + 1\n",
    "    print(forlist)"
   ]
  },
  {
   "cell_type": "code",
   "execution_count": 40,
   "metadata": {},
   "outputs": [
    {
     "name": "stdout",
     "output_type": "stream",
     "text": [
      "t\n",
      "h\n",
      "i\n",
      "s\n",
      " \n",
      "i\n",
      "s\n",
      " \n",
      "a\n",
      " \n",
      "s\n",
      "t\n",
      "r\n",
      "i\n",
      "n\n",
      "g\n"
     ]
    }
   ],
   "source": [
    "for letter in 'this is a string':\n",
    "    print(letter)"
   ]
  },
  {
   "cell_type": "code",
   "execution_count": 41,
   "metadata": {},
   "outputs": [
    {
     "name": "stdout",
     "output_type": "stream",
     "text": [
      "100\n",
      "200\n",
      "300\n",
      "400\n",
      "500\n"
     ]
    }
   ],
   "source": [
    "tuple1 = (100,200,300,400,500)\n",
    "for t in tuple1:\n",
    "    print(t)"
   ]
  },
  {
   "cell_type": "code",
   "execution_count": 59,
   "metadata": {},
   "outputs": [
    {
     "name": "stdout",
     "output_type": "stream",
     "text": [
      "(1, 2)\n",
      "(3, 4)\n",
      "(5, 6)\n"
     ]
    }
   ],
   "source": [
    "listoftups = [(1,2),(3,4),(5,6)]\n",
    "for t in listoftups:\n",
    "    print(t)"
   ]
  },
  {
   "cell_type": "code",
   "execution_count": 45,
   "metadata": {},
   "outputs": [
    {
     "name": "stdout",
     "output_type": "stream",
     "text": [
      "1\n",
      "2\n",
      "3\n",
      "4\n",
      "5\n",
      "6\n"
     ]
    }
   ],
   "source": [
    "### tuple unpacking - works only when evrey tuple in the list is of same size\n",
    "for (t1,t2) in tuplist:\n",
    "    print(t1)\n",
    "    print(t2)"
   ]
  },
  {
   "cell_type": "code",
   "execution_count": 63,
   "metadata": {},
   "outputs": [
    {
     "name": "stdout",
     "output_type": "stream",
     "text": [
      "1\n",
      "2\n",
      "3\n",
      "30\n",
      "40\n",
      "50\n",
      "5\n",
      "6\n",
      "7\n"
     ]
    }
   ],
   "source": [
    "tuplist1 = [(1,2,3),(30,40,50),(5,6,7)]\n",
    "\n",
    "### tuple unpacking\n",
    "for (t1,t2,t3) in tuplist1:\n",
    "    print(t1)\n",
    "    print(t2)\n",
    "    print(t3)\n"
   ]
  },
  {
   "cell_type": "code",
   "execution_count": 67,
   "metadata": {},
   "outputs": [
    {
     "ename": "ValueError",
     "evalue": "not enough values to unpack (expected 3, got 2)",
     "output_type": "error",
     "traceback": [
      "\u001b[1;31m---------------------------------------------------------------------------\u001b[0m",
      "\u001b[1;31mValueError\u001b[0m                                Traceback (most recent call last)",
      "\u001b[1;32m<ipython-input-67-bd9b392b325e>\u001b[0m in \u001b[0;36m<module>\u001b[1;34m()\u001b[0m\n\u001b[0;32m      1\u001b[0m \u001b[0mtuplist2\u001b[0m \u001b[1;33m=\u001b[0m \u001b[1;33m[\u001b[0m\u001b[1;33m(\u001b[0m\u001b[1;36m1\u001b[0m\u001b[1;33m,\u001b[0m\u001b[1;36m2\u001b[0m\u001b[1;33m)\u001b[0m\u001b[1;33m,\u001b[0m\u001b[1;33m(\u001b[0m\u001b[1;36m30\u001b[0m\u001b[1;33m,\u001b[0m\u001b[1;36m40\u001b[0m\u001b[1;33m,\u001b[0m\u001b[1;36m50\u001b[0m\u001b[1;33m)\u001b[0m\u001b[1;33m,\u001b[0m\u001b[1;33m(\u001b[0m\u001b[1;36m5\u001b[0m\u001b[1;33m,\u001b[0m\u001b[1;36m6\u001b[0m\u001b[1;33m,\u001b[0m\u001b[1;36m7\u001b[0m\u001b[1;33m)\u001b[0m\u001b[1;33m]\u001b[0m\u001b[1;33m\u001b[0m\u001b[0m\n\u001b[1;32m----> 2\u001b[1;33m \u001b[1;32mfor\u001b[0m \u001b[1;33m(\u001b[0m\u001b[0mt1\u001b[0m\u001b[1;33m,\u001b[0m\u001b[0mt2\u001b[0m\u001b[1;33m,\u001b[0m\u001b[0mt3\u001b[0m\u001b[1;33m)\u001b[0m \u001b[1;32min\u001b[0m \u001b[0mtuplist2\u001b[0m\u001b[1;33m:\u001b[0m\u001b[1;33m\u001b[0m\u001b[0m\n\u001b[0m\u001b[0;32m      3\u001b[0m     \u001b[0mprint\u001b[0m\u001b[1;33m(\u001b[0m\u001b[0mt1\u001b[0m\u001b[1;33m)\u001b[0m\u001b[1;33m\u001b[0m\u001b[0m\n\u001b[0;32m      4\u001b[0m     \u001b[0mprint\u001b[0m\u001b[1;33m(\u001b[0m\u001b[0mt2\u001b[0m\u001b[1;33m)\u001b[0m\u001b[1;33m\u001b[0m\u001b[0m\n\u001b[0;32m      5\u001b[0m     \u001b[0mprint\u001b[0m\u001b[1;33m(\u001b[0m\u001b[0mt3\u001b[0m\u001b[1;33m)\u001b[0m\u001b[1;33m\u001b[0m\u001b[0m\n",
      "\u001b[1;31mValueError\u001b[0m: not enough values to unpack (expected 3, got 2)"
     ]
    }
   ],
   "source": [
    "tuplist2 = [(1,2),(30,40,50),(5,6,7)]\n",
    "for (t1,t2,t3) in tuplist2:\n",
    "    print(t1)\n",
    "    print(t2)\n",
    "    print(t3)\n",
    "\n"
   ]
  },
  {
   "cell_type": "code",
   "execution_count": 69,
   "metadata": {},
   "outputs": [
    {
     "ename": "ValueError",
     "evalue": "not enough values to unpack (expected 3, got 2)",
     "output_type": "error",
     "traceback": [
      "\u001b[1;31m---------------------------------------------------------------------------\u001b[0m",
      "\u001b[1;31mValueError\u001b[0m                                Traceback (most recent call last)",
      "\u001b[1;32m<ipython-input-69-bd894a339a48>\u001b[0m in \u001b[0;36m<module>\u001b[1;34m()\u001b[0m\n\u001b[0;32m      1\u001b[0m \u001b[0mtuplist3\u001b[0m \u001b[1;33m=\u001b[0m \u001b[1;33m[\u001b[0m\u001b[1;33m(\u001b[0m\u001b[1;36m1\u001b[0m\u001b[1;33m,\u001b[0m\u001b[1;36m2\u001b[0m\u001b[1;33m)\u001b[0m\u001b[1;33m,\u001b[0m\u001b[1;33m(\u001b[0m\u001b[1;36m30\u001b[0m\u001b[1;33m,\u001b[0m\u001b[1;36m40\u001b[0m\u001b[1;33m,\u001b[0m\u001b[1;36m50\u001b[0m\u001b[1;33m)\u001b[0m\u001b[1;33m,\u001b[0m\u001b[1;33m(\u001b[0m\u001b[1;36m5\u001b[0m\u001b[1;33m,\u001b[0m\u001b[1;36m6\u001b[0m\u001b[1;33m,\u001b[0m\u001b[1;36m7\u001b[0m\u001b[1;33m)\u001b[0m\u001b[1;33m]\u001b[0m\u001b[1;33m\u001b[0m\u001b[0m\n\u001b[1;32m----> 2\u001b[1;33m \u001b[1;32mfor\u001b[0m \u001b[1;33m(\u001b[0m\u001b[0mt1\u001b[0m\u001b[1;33m,\u001b[0m\u001b[0mt2\u001b[0m\u001b[1;33m,\u001b[0m\u001b[0mt3\u001b[0m\u001b[1;33m)\u001b[0m \u001b[1;32min\u001b[0m \u001b[0mtuplist3\u001b[0m\u001b[1;33m:\u001b[0m\u001b[1;33m\u001b[0m\u001b[0m\n\u001b[0m\u001b[0;32m      3\u001b[0m     \u001b[0mprint\u001b[0m\u001b[1;33m(\u001b[0m\u001b[0mt1\u001b[0m\u001b[1;33m)\u001b[0m\u001b[1;33m\u001b[0m\u001b[0m\n\u001b[0;32m      4\u001b[0m     \u001b[0mprint\u001b[0m\u001b[1;33m(\u001b[0m\u001b[0mt2\u001b[0m\u001b[1;33m)\u001b[0m\u001b[1;33m\u001b[0m\u001b[0m\n\u001b[0;32m      5\u001b[0m     \u001b[0mprint\u001b[0m\u001b[1;33m(\u001b[0m\u001b[0mt3\u001b[0m\u001b[1;33m)\u001b[0m\u001b[1;33m\u001b[0m\u001b[0m\n",
      "\u001b[1;31mValueError\u001b[0m: not enough values to unpack (expected 3, got 2)"
     ]
    }
   ],
   "source": [
    "tuplist3 = [(1,2),(30,40,50),(5,6,7)]\n",
    "for (t1,t2,t3) in tuplist3:\n",
    "    print(t1)\n",
    "    print(t2)\n",
    "    print(t3)\n"
   ]
  },
  {
   "cell_type": "code",
   "execution_count": 70,
   "metadata": {},
   "outputs": [],
   "source": [
    "### for loop with dictionary\n",
    "d = {'k' :1, 'k2':2, 'k3':3}"
   ]
  },
  {
   "cell_type": "code",
   "execution_count": 71,
   "metadata": {},
   "outputs": [
    {
     "name": "stdout",
     "output_type": "stream",
     "text": [
      "k\n",
      "k2\n",
      "k3\n"
     ]
    }
   ],
   "source": [
    "for x in d:\n",
    "    print(x)"
   ]
  },
  {
   "cell_type": "code",
   "execution_count": 72,
   "metadata": {},
   "outputs": [
    {
     "data": {
      "text/plain": [
       "dict_items([('k', 1), ('k2', 2), ('k3', 3)])"
      ]
     },
     "execution_count": 72,
     "metadata": {},
     "output_type": "execute_result"
    }
   ],
   "source": [
    "d.items()"
   ]
  },
  {
   "cell_type": "code",
   "execution_count": 73,
   "metadata": {},
   "outputs": [
    {
     "data": {
      "text/plain": [
       "dict_keys(['k', 'k2', 'k3'])"
      ]
     },
     "execution_count": 73,
     "metadata": {},
     "output_type": "execute_result"
    }
   ],
   "source": [
    "d.keys()"
   ]
  },
  {
   "cell_type": "code",
   "execution_count": 74,
   "metadata": {},
   "outputs": [
    {
     "data": {
      "text/plain": [
       "dict_values([1, 2, 3])"
      ]
     },
     "execution_count": 74,
     "metadata": {},
     "output_type": "execute_result"
    }
   ],
   "source": [
    "d.values()"
   ]
  },
  {
   "cell_type": "code",
   "execution_count": 75,
   "metadata": {},
   "outputs": [
    {
     "name": "stdout",
     "output_type": "stream",
     "text": [
      "('k', 1)\n",
      "('k2', 2)\n",
      "('k3', 3)\n"
     ]
    }
   ],
   "source": [
    "for x in d.items():\n",
    "    print(x)"
   ]
  },
  {
   "cell_type": "code",
   "execution_count": 76,
   "metadata": {},
   "outputs": [
    {
     "name": "stdout",
     "output_type": "stream",
     "text": [
      "1\n",
      "2\n",
      "3\n"
     ]
    }
   ],
   "source": [
    "for x in d.values():\n",
    "    print(x)\n"
   ]
  },
  {
   "cell_type": "code",
   "execution_count": 78,
   "metadata": {},
   "outputs": [
    {
     "name": "stdout",
     "output_type": "stream",
     "text": [
      "k\n",
      "k2\n",
      "k3\n"
     ]
    }
   ],
   "source": [
    "for x in d.keys(): print(x)"
   ]
  },
  {
   "cell_type": "code",
   "execution_count": 81,
   "metadata": {},
   "outputs": [
    {
     "name": "stdout",
     "output_type": "stream",
     "text": [
      "k\n",
      "k2\n",
      "k3\n"
     ]
    }
   ],
   "source": [
    "for x in d.keys(): print(x)\n",
    "    "
   ]
  },
  {
   "cell_type": "code",
   "execution_count": null,
   "metadata": {},
   "outputs": [],
   "source": []
  },
  {
   "cell_type": "raw",
   "metadata": {},
   "source": [
    "### FOR LOOP ENDS"
   ]
  },
  {
   "cell_type": "code",
   "execution_count": null,
   "metadata": {},
   "outputs": [],
   "source": []
  },
  {
   "cell_type": "markdown",
   "metadata": {},
   "source": [
    "#### WHILE LOOPS - STARTS\n",
    "the while statement in Python is one of most general ways to perform iteration.\n",
    "\n",
    "A while statement will repeatedly execute a single statement or group of statements as long as the condition is true. The reason it is called a 'loop' is because the code statements are looped through over and over again until the condition is no longer met.\n",
    "\n",
    "while test: code statements else: final code statements\n"
   ]
  },
  {
   "cell_type": "code",
   "execution_count": 85,
   "metadata": {
    "scrolled": true
   },
   "outputs": [
    {
     "name": "stdout",
     "output_type": "stream",
     "text": [
      "current of x is  0\n",
      "x is still less than 10, so add 1 to x\n",
      "current of x is  1\n",
      "x is still less than 10, so add 1 to x\n",
      "current of x is  2\n",
      "x is still less than 10, so add 1 to x\n",
      "current of x is  3\n",
      "x is still less than 10, so add 1 to x\n",
      "current of x is  4\n",
      "x is still less than 10, so add 1 to x\n",
      "current of x is  5\n",
      "x is still less than 10, so add 1 to x\n",
      "current of x is  6\n",
      "x is still less than 10, so add 1 to x\n",
      "current of x is  7\n",
      "x is still less than 10, so add 1 to x\n",
      "current of x is  8\n",
      "x is still less than 10, so add 1 to x\n",
      "current of x is  9\n",
      "x is still less than 10, so add 1 to x\n",
      "current of x is  10\n",
      "x is still less than 10, so add 1 to x\n"
     ]
    }
   ],
   "source": [
    "x=0\n",
    "while x<=10:\n",
    "    print('current of x is ',x)\n",
    "    print('x is still less than 10, so add 1 to x')\n",
    "    x = x + 1            ### x += 1"
   ]
  },
  {
   "cell_type": "code",
   "execution_count": 88,
   "metadata": {},
   "outputs": [
    {
     "name": "stdout",
     "output_type": "stream",
     "text": [
      "current value of w is 0\n",
      "currently w is still less than 10\n",
      "w is incremented,new val of w is  1\n",
      "current value of w is 1\n",
      "currently w is still less than 10\n",
      "w is incremented,new val of w is  2\n",
      "current value of w is 2\n",
      "currently w is still less than 10\n",
      "w is incremented,new val of w is  3\n",
      "current value of w is 3\n",
      "currently w is still less than 10\n",
      "w is incremented,new val of w is  4\n",
      "current value of w is 4\n",
      "currently w is still less than 10\n",
      "w is incremented,new val of w is  5\n",
      "current value of w is 5\n",
      "currently w is still less than 10\n",
      "w is incremented,new val of w is  6\n",
      "current value of w is 6\n",
      "currently w is still less than 10\n",
      "w is incremented,new val of w is  7\n",
      "current value of w is 7\n",
      "currently w is still less than 10\n",
      "w is incremented,new val of w is  8\n",
      "current value of w is 8\n",
      "currently w is still less than 10\n",
      "w is incremented,new val of w is  9\n",
      "current value of w is 9\n",
      "currently w is still less than 10\n",
      "w is incremented,new val of w is  10\n",
      "all iterations are done\n"
     ]
    }
   ],
   "source": [
    "### different formats of while\n",
    "w = 0\n",
    "while w < 10:\n",
    "    print('current value of w is', w)\n",
    "    print('currently w is still less than 10')\n",
    "    w += 1  ### similar to w = w + 1\n",
    "    print('w is incremented,new val of w is ', w)\n",
    "else:\n",
    "    print('all iterations are done')\n"
   ]
  },
  {
   "cell_type": "markdown",
   "metadata": {},
   "source": [
    "##### break --continue -- pass in While loops\n",
    "\n",
    "break: Breaks out of the current closest enclosing loop. \n",
    "\n",
    "continue: Goes to the top of the closest enclosing loop. \n",
    "\n",
    "pass: Does nothing at all.\n",
    "\n",
    "while test: code statement if test: break if test: conutee else:"
   ]
  },
  {
   "cell_type": "code",
   "execution_count": 97,
   "metadata": {},
   "outputs": [
    {
     "name": "stdout",
     "output_type": "stream",
     "text": [
      "current value of x is  0\n",
      " x is still less than 8\n",
      "x is incremented to  1\n",
      "x is incremented post else\n",
      "continuing....\n",
      "current value of x is  1\n",
      " x is still less than 8\n",
      "x is incremented to  2\n",
      "x is incremented post else\n",
      "continuing....\n",
      "current value of x is  2\n",
      " x is still less than 8\n",
      "x is incremented to  3\n",
      "x==3\n",
      "current value of x is  3\n",
      " x is still less than 8\n",
      "x is incremented to  4\n",
      "x is incremented post else\n",
      "continuing....\n",
      "current value of x is  4\n",
      " x is still less than 8\n",
      "x is incremented to  5\n",
      "x is incremented post else\n",
      "continuing....\n",
      "current value of x is  5\n",
      " x is still less than 8\n",
      "x is incremented to  6\n",
      "x is incremented post else\n",
      "continuing....\n",
      "current value of x is  6\n",
      " x is still less than 8\n",
      "x is incremented to  7\n",
      "x is incremented post else\n",
      "continuing....\n",
      "current value of x is  7\n",
      " x is still less than 8\n",
      "x is incremented to  8\n",
      "x is incremented post else\n",
      "continuing....\n",
      "out of while loop\n"
     ]
    }
   ],
   "source": [
    "### example for continue\n",
    "x = 0\n",
    "while x < 8:\n",
    "    print('current value of x is ', x)\n",
    "    print(' x is still less than 8')\n",
    "    x = x + 1\n",
    "    print('x is incremented to ', x)\n",
    "    if x == 3:\n",
    "        print('x==3')\n",
    "    else:\n",
    "        print('x is incremented post else')\n",
    "        print('continuing....')\n",
    "        continue\n",
    "        print('after continue')\n",
    "\n",
    "print(\"out of while loop\")"
   ]
  },
  {
   "cell_type": "code",
   "execution_count": null,
   "metadata": {},
   "outputs": [],
   "source": [
    "-"
   ]
  },
  {
   "cell_type": "code",
   "execution_count": null,
   "metadata": {},
   "outputs": [],
   "source": []
  },
  {
   "cell_type": "code",
   "execution_count": null,
   "metadata": {},
   "outputs": [],
   "source": []
  },
  {
   "cell_type": "code",
   "execution_count": null,
   "metadata": {},
   "outputs": [],
   "source": []
  },
  {
   "cell_type": "code",
   "execution_count": null,
   "metadata": {},
   "outputs": [],
   "source": []
  }
 ],
 "metadata": {
  "kernelspec": {
   "display_name": "Python 3",
   "language": "python",
   "name": "python3"
  },
  "language_info": {
   "codemirror_mode": {
    "name": "ipython",
    "version": 3
   },
   "file_extension": ".py",
   "mimetype": "text/x-python",
   "name": "python",
   "nbconvert_exporter": "python",
   "pygments_lexer": "ipython3",
   "version": "3.7.2"
  }
 },
 "nbformat": 4,
 "nbformat_minor": 2
}
