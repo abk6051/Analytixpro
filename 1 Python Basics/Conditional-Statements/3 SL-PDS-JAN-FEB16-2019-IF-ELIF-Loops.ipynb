{
 "cells": [
  {
   "cell_type": "markdown",
   "metadata": {},
   "source": [
    "#### IF ELIF ELSE STATEMENTS in Python\n",
    "\n",
    "PSUEDO\n",
    "If cond1:\n",
    "     execute some action1\n",
    "elif cond2:\n",
    "     execute some action2\n",
    "else:\n",
    "     execute some action3 \n",
    "\n",
    "in real environmeent - if Statements help in defining business and data rules "
   ]
  },
  {
   "cell_type": "code",
   "execution_count": 1,
   "metadata": {},
   "outputs": [
    {
     "name": "stdout",
     "output_type": "stream",
     "text": [
      "my first if\n"
     ]
    }
   ],
   "source": [
    "### simple example\n",
    "if True:\n",
    "    print('my first if')"
   ]
  },
  {
   "cell_type": "code",
   "execution_count": 8,
   "metadata": {},
   "outputs": [
    {
     "name": "stdout",
     "output_type": "stream",
     "text": [
      "X IS NOT 100\n"
     ]
    }
   ],
   "source": [
    "### example 2\n",
    "x = 200      # this is assignment of value to variable x\n",
    "if(x == 100):   ### this is checking or validating whether x = 100\n",
    "    print('x -IS 100')\n",
    "else:\n",
    "    print('X IS NOT 100')\n",
    "\n",
    "\n",
    "    \n",
    "\n",
    "    "
   ]
  },
  {
   "cell_type": "code",
   "execution_count": 10,
   "metadata": {},
   "outputs": [
    {
     "name": "stdout",
     "output_type": "stream",
     "text": [
      "welcome to Bank\n"
     ]
    }
   ],
   "source": [
    "location = 'Bank'\n",
    "if location == 'house':\n",
    "    print(\"welcome to house\")\n",
    "elif location == 'Bank':\n",
    "    print(\"welcome to Bank\")\n",
    "else:\n",
    "    print(\"dont know where you are!!!!\")\n",
    "\n"
   ]
  },
  {
   "cell_type": "code",
   "execution_count": 21,
   "metadata": {},
   "outputs": [
    {
     "name": "stdout",
     "output_type": "stream",
     "text": [
      "welcome to nestedif\n",
      "welcome to nestedif again\n",
      "welcome to firstif\n"
     ]
    }
   ],
   "source": [
    "### nested IF statements\n",
    "location = 'house'\n",
    "sub_location = 'apartmentno-3'\n",
    "\n",
    "if location == 'house':\n",
    "    if sub_location == 'apartmentno-3':\n",
    "        print('welcome to nestedif')\n",
    "        print('welcome to nestedif again')\n",
    "    else:\n",
    "        print('welcome to sublocation')\n",
    "        \n",
    "    print(\"welcome to firstif\")\n",
    "elif location == 'Bank':\n",
    "    print(\"welcome to elif\")\n",
    "else:\n",
    "    print(\"dont know where you are!!!!\")\n",
    "\n",
    "##location = \"newhouse\"\n",
    "#print(location)"
   ]
  },
  {
   "cell_type": "code",
   "execution_count": 24,
   "metadata": {},
   "outputs": [
    {
     "name": "stdout",
     "output_type": "stream",
     "text": [
      "true\n"
     ]
    }
   ],
   "source": [
    "if True: print('true')"
   ]
  },
  {
   "cell_type": "markdown",
   "metadata": {},
   "source": [
    "##### FOR LOOP\n"
   ]
  },
  {
   "cell_type": "code",
   "execution_count": 38,
   "metadata": {},
   "outputs": [
    {
     "name": "stdout",
     "output_type": "stream",
     "text": [
      "101\n",
      "102\n",
      "103\n",
      "104\n",
      "105\n",
      "106\n",
      "107\n",
      "108\n",
      "109\n",
      "110\n"
     ]
    }
   ],
   "source": [
    "### simple for loop\n",
    "forlist = [1,2,3,4,5,6,7,8,9,10]\n",
    "\n",
    "for num in forlist:         ### num is a user defined variable\n",
    "    num = num + 100\n",
    "    print(num)              #### every item from the list \"forlist\" gets read and moved to \"num\"\n",
    "                            #### num gets printed until the last item in the list \"forlist\""
   ]
  },
  {
   "cell_type": "code",
   "execution_count": 39,
   "metadata": {},
   "outputs": [
    {
     "name": "stdout",
     "output_type": "stream",
     "text": [
      "1\n",
      "2\n",
      "3\n",
      "4\n",
      "5\n",
      "6\n",
      "7\n",
      "8\n",
      "9\n",
      "10\n"
     ]
    }
   ],
   "source": [
    "for x in forlist:\n",
    "    print(x)"
   ]
  },
  {
   "cell_type": "code",
   "execution_count": null,
   "metadata": {},
   "outputs": [],
   "source": []
  },
  {
   "cell_type": "code",
   "execution_count": 32,
   "metadata": {},
   "outputs": [
    {
     "name": "stdout",
     "output_type": "stream",
     "text": [
      "110\n",
      "110\n",
      "110\n",
      "110\n",
      "110\n",
      "110\n",
      "110\n",
      "110\n",
      "110\n",
      "110\n"
     ]
    }
   ],
   "source": [
    "for x in forlist:\n",
    "    print(num)"
   ]
  },
  {
   "cell_type": "code",
   "execution_count": 37,
   "metadata": {},
   "outputs": [
    {
     "name": "stdout",
     "output_type": "stream",
     "text": [
      "101\n",
      "102\n",
      "103\n",
      "104\n",
      "105\n",
      "106\n",
      "107\n",
      "108\n",
      "109\n",
      "110\n"
     ]
    }
   ],
   "source": [
    "###\n",
    "x = 100\n",
    "for _ in forlist:\n",
    "    x = x + 1\n",
    "    print(forlist)"
   ]
  },
  {
   "cell_type": "code",
   "execution_count": 40,
   "metadata": {},
   "outputs": [
    {
     "name": "stdout",
     "output_type": "stream",
     "text": [
      "t\n",
      "h\n",
      "i\n",
      "s\n",
      " \n",
      "i\n",
      "s\n",
      " \n",
      "a\n",
      " \n",
      "s\n",
      "t\n",
      "r\n",
      "i\n",
      "n\n",
      "g\n"
     ]
    }
   ],
   "source": [
    "for letter in 'this is a string':\n",
    "    print(letter)"
   ]
  },
  {
   "cell_type": "code",
   "execution_count": 41,
   "metadata": {},
   "outputs": [
    {
     "name": "stdout",
     "output_type": "stream",
     "text": [
      "100\n",
      "200\n",
      "300\n",
      "400\n",
      "500\n"
     ]
    }
   ],
   "source": [
    "tuple1 = (100,200,300,400,500)\n",
    "for t in tuple1:\n",
    "    print(t)"
   ]
  },
  {
   "cell_type": "code",
   "execution_count": 59,
   "metadata": {},
   "outputs": [
    {
     "name": "stdout",
     "output_type": "stream",
     "text": [
      "(1, 2)\n",
      "(3, 4)\n",
      "(5, 6)\n"
     ]
    }
   ],
   "source": [
    "listoftups = [(1,2),(3,4),(5,6)]\n",
    "for t in listoftups:\n",
    "    print(t)"
   ]
  },
  {
   "cell_type": "code",
   "execution_count": 45,
   "metadata": {},
   "outputs": [
    {
     "name": "stdout",
     "output_type": "stream",
     "text": [
      "1\n",
      "2\n",
      "3\n",
      "4\n",
      "5\n",
      "6\n"
     ]
    }
   ],
   "source": [
    "### tuple unpacking - works only when evrey tuple in the list is of same size\n",
    "for (t1,t2) in tuplist:\n",
    "    print(t1)\n",
    "    print(t2)"
   ]
  },
  {
   "cell_type": "code",
   "execution_count": 63,
   "metadata": {},
   "outputs": [
    {
     "name": "stdout",
     "output_type": "stream",
     "text": [
      "1\n",
      "2\n",
      "3\n",
      "30\n",
      "40\n",
      "50\n",
      "5\n",
      "6\n",
      "7\n"
     ]
    }
   ],
   "source": [
    "tuplist1 = [(1,2,3),(30,40,50),(5,6,7)]\n",
    "\n",
    "### tuple unpacking\n",
    "for (t1,t2,t3) in tuplist1:\n",
    "    print(t1)\n",
    "    print(t2)\n",
    "    print(t3)\n"
   ]
  },
  {
   "cell_type": "code",
   "execution_count": 67,
   "metadata": {},
   "outputs": [
    {
     "ename": "ValueError",
     "evalue": "not enough values to unpack (expected 3, got 2)",
     "output_type": "error",
     "traceback": [
      "\u001b[1;31m---------------------------------------------------------------------------\u001b[0m",
      "\u001b[1;31mValueError\u001b[0m                                Traceback (most recent call last)",
      "\u001b[1;32m<ipython-input-67-bd9b392b325e>\u001b[0m in \u001b[0;36m<module>\u001b[1;34m()\u001b[0m\n\u001b[0;32m      1\u001b[0m \u001b[0mtuplist2\u001b[0m \u001b[1;33m=\u001b[0m \u001b[1;33m[\u001b[0m\u001b[1;33m(\u001b[0m\u001b[1;36m1\u001b[0m\u001b[1;33m,\u001b[0m\u001b[1;36m2\u001b[0m\u001b[1;33m)\u001b[0m\u001b[1;33m,\u001b[0m\u001b[1;33m(\u001b[0m\u001b[1;36m30\u001b[0m\u001b[1;33m,\u001b[0m\u001b[1;36m40\u001b[0m\u001b[1;33m,\u001b[0m\u001b[1;36m50\u001b[0m\u001b[1;33m)\u001b[0m\u001b[1;33m,\u001b[0m\u001b[1;33m(\u001b[0m\u001b[1;36m5\u001b[0m\u001b[1;33m,\u001b[0m\u001b[1;36m6\u001b[0m\u001b[1;33m,\u001b[0m\u001b[1;36m7\u001b[0m\u001b[1;33m)\u001b[0m\u001b[1;33m]\u001b[0m\u001b[1;33m\u001b[0m\u001b[0m\n\u001b[1;32m----> 2\u001b[1;33m \u001b[1;32mfor\u001b[0m \u001b[1;33m(\u001b[0m\u001b[0mt1\u001b[0m\u001b[1;33m,\u001b[0m\u001b[0mt2\u001b[0m\u001b[1;33m,\u001b[0m\u001b[0mt3\u001b[0m\u001b[1;33m)\u001b[0m \u001b[1;32min\u001b[0m \u001b[0mtuplist2\u001b[0m\u001b[1;33m:\u001b[0m\u001b[1;33m\u001b[0m\u001b[0m\n\u001b[0m\u001b[0;32m      3\u001b[0m     \u001b[0mprint\u001b[0m\u001b[1;33m(\u001b[0m\u001b[0mt1\u001b[0m\u001b[1;33m)\u001b[0m\u001b[1;33m\u001b[0m\u001b[0m\n\u001b[0;32m      4\u001b[0m     \u001b[0mprint\u001b[0m\u001b[1;33m(\u001b[0m\u001b[0mt2\u001b[0m\u001b[1;33m)\u001b[0m\u001b[1;33m\u001b[0m\u001b[0m\n\u001b[0;32m      5\u001b[0m     \u001b[0mprint\u001b[0m\u001b[1;33m(\u001b[0m\u001b[0mt3\u001b[0m\u001b[1;33m)\u001b[0m\u001b[1;33m\u001b[0m\u001b[0m\n",
      "\u001b[1;31mValueError\u001b[0m: not enough values to unpack (expected 3, got 2)"
     ]
    }
   ],
   "source": [
    "tuplist2 = [(1,2),(30,40,50),(5,6,7)]\n",
    "for (t1,t2,t3) in tuplist2:\n",
    "    print(t1)\n",
    "    print(t2)\n",
    "    print(t3)\n",
    "\n"
   ]
  },
  {
   "cell_type": "code",
   "execution_count": 69,
   "metadata": {},
   "outputs": [
    {
     "ename": "ValueError",
     "evalue": "not enough values to unpack (expected 3, got 2)",
     "output_type": "error",
     "traceback": [
      "\u001b[1;31m---------------------------------------------------------------------------\u001b[0m",
      "\u001b[1;31mValueError\u001b[0m                                Traceback (most recent call last)",
      "\u001b[1;32m<ipython-input-69-bd894a339a48>\u001b[0m in \u001b[0;36m<module>\u001b[1;34m()\u001b[0m\n\u001b[0;32m      1\u001b[0m \u001b[0mtuplist3\u001b[0m \u001b[1;33m=\u001b[0m \u001b[1;33m[\u001b[0m\u001b[1;33m(\u001b[0m\u001b[1;36m1\u001b[0m\u001b[1;33m,\u001b[0m\u001b[1;36m2\u001b[0m\u001b[1;33m)\u001b[0m\u001b[1;33m,\u001b[0m\u001b[1;33m(\u001b[0m\u001b[1;36m30\u001b[0m\u001b[1;33m,\u001b[0m\u001b[1;36m40\u001b[0m\u001b[1;33m,\u001b[0m\u001b[1;36m50\u001b[0m\u001b[1;33m)\u001b[0m\u001b[1;33m,\u001b[0m\u001b[1;33m(\u001b[0m\u001b[1;36m5\u001b[0m\u001b[1;33m,\u001b[0m\u001b[1;36m6\u001b[0m\u001b[1;33m,\u001b[0m\u001b[1;36m7\u001b[0m\u001b[1;33m)\u001b[0m\u001b[1;33m]\u001b[0m\u001b[1;33m\u001b[0m\u001b[0m\n\u001b[1;32m----> 2\u001b[1;33m \u001b[1;32mfor\u001b[0m \u001b[1;33m(\u001b[0m\u001b[0mt1\u001b[0m\u001b[1;33m,\u001b[0m\u001b[0mt2\u001b[0m\u001b[1;33m,\u001b[0m\u001b[0mt3\u001b[0m\u001b[1;33m)\u001b[0m \u001b[1;32min\u001b[0m \u001b[0mtuplist3\u001b[0m\u001b[1;33m:\u001b[0m\u001b[1;33m\u001b[0m\u001b[0m\n\u001b[0m\u001b[0;32m      3\u001b[0m     \u001b[0mprint\u001b[0m\u001b[1;33m(\u001b[0m\u001b[0mt1\u001b[0m\u001b[1;33m)\u001b[0m\u001b[1;33m\u001b[0m\u001b[0m\n\u001b[0;32m      4\u001b[0m     \u001b[0mprint\u001b[0m\u001b[1;33m(\u001b[0m\u001b[0mt2\u001b[0m\u001b[1;33m)\u001b[0m\u001b[1;33m\u001b[0m\u001b[0m\n\u001b[0;32m      5\u001b[0m     \u001b[0mprint\u001b[0m\u001b[1;33m(\u001b[0m\u001b[0mt3\u001b[0m\u001b[1;33m)\u001b[0m\u001b[1;33m\u001b[0m\u001b[0m\n",
      "\u001b[1;31mValueError\u001b[0m: not enough values to unpack (expected 3, got 2)"
     ]
    }
   ],
   "source": [
    "tuplist3 = [(1,2),(30,40,50),(5,6,7)]\n",
    "for (t1,t2,t3) in tuplist3:\n",
    "    print(t1)\n",
    "    print(t2)\n",
    "    print(t3)\n"
   ]
  },
  {
   "cell_type": "code",
   "execution_count": 70,
   "metadata": {},
   "outputs": [],
   "source": [
    "### for loop with dictionary\n",
    "d = {'k' :1, 'k2':2, 'k3':3}"
   ]
  },
  {
   "cell_type": "code",
   "execution_count": 71,
   "metadata": {},
   "outputs": [
    {
     "name": "stdout",
     "output_type": "stream",
     "text": [
      "k\n",
      "k2\n",
      "k3\n"
     ]
    }
   ],
   "source": [
    "for x in d:\n",
    "    print(x)"
   ]
  },
  {
   "cell_type": "code",
   "execution_count": 72,
   "metadata": {},
   "outputs": [
    {
     "data": {
      "text/plain": [
       "dict_items([('k', 1), ('k2', 2), ('k3', 3)])"
      ]
     },
     "execution_count": 72,
     "metadata": {},
     "output_type": "execute_result"
    }
   ],
   "source": [
    "d.items()"
   ]
  },
  {
   "cell_type": "code",
   "execution_count": 73,
   "metadata": {},
   "outputs": [
    {
     "data": {
      "text/plain": [
       "dict_keys(['k', 'k2', 'k3'])"
      ]
     },
     "execution_count": 73,
     "metadata": {},
     "output_type": "execute_result"
    }
   ],
   "source": [
    "d.keys()"
   ]
  },
  {
   "cell_type": "code",
   "execution_count": 74,
   "metadata": {},
   "outputs": [
    {
     "data": {
      "text/plain": [
       "dict_values([1, 2, 3])"
      ]
     },
     "execution_count": 74,
     "metadata": {},
     "output_type": "execute_result"
    }
   ],
   "source": [
    "d.values()"
   ]
  },
  {
   "cell_type": "code",
   "execution_count": 75,
   "metadata": {},
   "outputs": [
    {
     "name": "stdout",
     "output_type": "stream",
     "text": [
      "('k', 1)\n",
      "('k2', 2)\n",
      "('k3', 3)\n"
     ]
    }
   ],
   "source": [
    "for x in d.items():\n",
    "    print(x)"
   ]
  },
  {
   "cell_type": "code",
   "execution_count": 76,
   "metadata": {},
   "outputs": [
    {
     "name": "stdout",
     "output_type": "stream",
     "text": [
      "1\n",
      "2\n",
      "3\n"
     ]
    }
   ],
   "source": [
    "for x in d.values():\n",
    "    print(x)\n"
   ]
  },
  {
   "cell_type": "code",
   "execution_count": 78,
   "metadata": {},
   "outputs": [
    {
     "name": "stdout",
     "output_type": "stream",
     "text": [
      "k\n",
      "k2\n",
      "k3\n"
     ]
    }
   ],
   "source": [
    "for x in d.keys(): print(x)"
   ]
  },
  {
   "cell_type": "code",
   "execution_count": 81,
   "metadata": {},
   "outputs": [
    {
     "name": "stdout",
     "output_type": "stream",
     "text": [
      "k\n",
      "k2\n",
      "k3\n"
     ]
    }
   ],
   "source": [
    "for x in d.keys(): print(x)\n",
    "    "
   ]
  },
  {
   "cell_type": "code",
   "execution_count": null,
   "metadata": {},
   "outputs": [],
   "source": []
  },
  {
   "cell_type": "raw",
   "metadata": {},
   "source": [
    "### FOR LOOP ENDS"
   ]
  },
  {
   "cell_type": "code",
   "execution_count": null,
   "metadata": {},
   "outputs": [],
   "source": []
  },
  {
   "cell_type": "markdown",
   "metadata": {},
   "source": [
    "#### WHILE LOOPS - STARTS\n",
    "the while statement in Python is one of most general ways to perform iteration.\n",
    "\n",
    "A while statement will repeatedly execute a single statement or group of statements as long as the condition is true. The reason it is called a 'loop' is because the code statements are looped through over and over again until the condition is no longer met.\n",
    "\n",
    "while test: code statements else: final code statements\n"
   ]
  },
  {
   "cell_type": "code",
   "execution_count": 28,
   "metadata": {
    "scrolled": true
   },
   "outputs": [
    {
     "name": "stdout",
     "output_type": "stream",
     "text": [
      "1\n",
      "2\n",
      "3\n",
      "4\n",
      "5\n",
      "6\n",
      "7\n",
      "8\n",
      "9\n",
      "10\n"
     ]
    }
   ],
   "source": [
    "### Why While Loops\n",
    "### let us say we want to print numbers from 1 to 10\n",
    "print(1)\n",
    "print(2)\n",
    "print(3)\n",
    "print(4)\n",
    "print(5)\n",
    "print(6)\n",
    "print(7)\n",
    "print(8)\n",
    "print(9)\n",
    "print(10)"
   ]
  },
  {
   "cell_type": "markdown",
   "metadata": {},
   "source": [
    "### obviously the above is a complex process and needs a lot of manual work\n",
    "### whenever we have such a situation where some repeatability is required, we use a while loop"
   ]
  },
  {
   "cell_type": "code",
   "execution_count": 29,
   "metadata": {},
   "outputs": [
    {
     "name": "stdout",
     "output_type": "stream",
     "text": [
      "1\n",
      "2\n",
      "3\n",
      "4\n",
      "5\n",
      "6\n",
      "7\n",
      "8\n",
      "9\n",
      "10\n"
     ]
    }
   ],
   "source": [
    "number = 1\n",
    "while number <= 10:\n",
    "    print(number)          \n",
    "    number=number+1\n",
    "    \n",
    "### while loop repeatedly checks if the number is <= 10, until number gets the value of 10\n",
    "### print and number = number + 1 gets written once and repeated many times\n",
    "### there is no limit to th number of times in terms of repeatability"
   ]
  },
  {
   "cell_type": "code",
   "execution_count": null,
   "metadata": {},
   "outputs": [],
   "source": [
    "    "
   ]
  },
  {
   "cell_type": "code",
   "execution_count": 30,
   "metadata": {},
   "outputs": [
    {
     "name": "stdout",
     "output_type": "stream",
     "text": [
      "Number is odd :  1\n",
      "Even number is :  2\n",
      "Number is odd :  3\n",
      "Even number is :  4\n",
      "Number is odd :  5\n",
      "Even number is :  6\n",
      "Number is odd :  7\n",
      "Even number is :  8\n",
      "Number is odd :  9\n",
      "Even number is :  10\n",
      "Number is odd :  11\n",
      "Even number is :  12\n",
      "Number is odd :  13\n",
      "Even number is :  14\n",
      "Number is odd :  15\n",
      "Even number is :  16\n",
      "Number is odd :  17\n",
      "Even number is :  18\n",
      "Number is odd :  19\n",
      "Even number is :  20\n",
      "Number is odd :  21\n",
      "Even number is :  22\n",
      "Number is odd :  23\n",
      "Even number is :  24\n",
      "Number is odd :  25\n",
      "Even number is :  26\n",
      "Number is odd :  27\n",
      "Even number is :  28\n",
      "Number is odd :  29\n",
      "Even number is :  30\n",
      "Number is odd :  31\n",
      "Even number is :  32\n",
      "Number is odd :  33\n",
      "Even number is :  34\n",
      "Number is odd :  35\n",
      "Even number is :  36\n",
      "Number is odd :  37\n",
      "Even number is :  38\n",
      "Number is odd :  39\n",
      "Even number is :  40\n",
      "Number is odd :  41\n",
      "Even number is :  42\n",
      "Number is odd :  43\n",
      "Even number is :  44\n",
      "Number is odd :  45\n",
      "Even number is :  46\n",
      "Number is odd :  47\n",
      "Even number is :  48\n",
      "Number is odd :  49\n",
      "Even number is :  50\n",
      "Number is odd :  51\n",
      "Even number is :  52\n",
      "Number is odd :  53\n",
      "Even number is :  54\n",
      "Number is odd :  55\n",
      "Even number is :  56\n",
      "Number is odd :  57\n",
      "Even number is :  58\n",
      "Number is odd :  59\n",
      "Even number is :  60\n",
      "Number is odd :  61\n",
      "Even number is :  62\n",
      "Number is odd :  63\n",
      "Even number is :  64\n",
      "Number is odd :  65\n",
      "Even number is :  66\n",
      "Number is odd :  67\n",
      "Even number is :  68\n",
      "Number is odd :  69\n",
      "Even number is :  70\n",
      "Number is odd :  71\n",
      "Even number is :  72\n",
      "Number is odd :  73\n",
      "Even number is :  74\n",
      "Number is odd :  75\n",
      "Even number is :  76\n",
      "Number is odd :  77\n",
      "Even number is :  78\n",
      "Number is odd :  79\n",
      "Even number is :  80\n",
      "Number is odd :  81\n",
      "Even number is :  82\n",
      "Number is odd :  83\n",
      "Even number is :  84\n",
      "Number is odd :  85\n",
      "Even number is :  86\n",
      "Number is odd :  87\n",
      "Even number is :  88\n",
      "Number is odd :  89\n",
      "Even number is :  90\n",
      "Number is odd :  91\n",
      "Even number is :  92\n",
      "Number is odd :  93\n",
      "Even number is :  94\n",
      "Number is odd :  95\n",
      "Even number is :  96\n",
      "Number is odd :  97\n",
      "Even number is :  98\n",
      "Number is odd :  99\n",
      "Even number is :  100\n"
     ]
    }
   ],
   "source": [
    "### print  even and odd numbers between 1 and 100\n",
    "number = 1\n",
    "while number <= 100:\n",
    "    if number % 2 == 0:   # any number if its divided by 2 and gives a reminder(modulo) of zero is even\n",
    "        print('Even number is : ',number)\n",
    "    else:\n",
    "        print('Number is odd : ',number)\n",
    "          \n",
    "    number +=1    ## number = numbere + 1"
   ]
  },
  {
   "cell_type": "code",
   "execution_count": 31,
   "metadata": {},
   "outputs": [
    {
     "name": "stdout",
     "output_type": "stream",
     "text": [
      "Odd number is :  1\n",
      "Odd number is :  3\n",
      "Odd number is :  5\n",
      "Odd number is :  7\n",
      "Odd number is :  9\n",
      "Odd number is :  11\n",
      "Odd number is :  13\n",
      "Odd number is :  15\n",
      "Odd number is :  17\n",
      "Odd number is :  19\n",
      "Odd number is :  21\n",
      "Odd number is :  23\n",
      "Odd number is :  25\n",
      "Odd number is :  27\n",
      "Odd number is :  29\n",
      "Odd number is :  31\n",
      "Odd number is :  33\n",
      "Odd number is :  35\n",
      "Odd number is :  37\n",
      "Odd number is :  39\n",
      "Odd number is :  41\n",
      "Odd number is :  43\n",
      "Odd number is :  45\n",
      "Odd number is :  47\n",
      "Odd number is :  49\n",
      "Odd number is :  51\n",
      "Odd number is :  53\n",
      "Odd number is :  55\n",
      "Odd number is :  57\n",
      "Odd number is :  59\n",
      "Odd number is :  61\n",
      "Odd number is :  63\n",
      "Odd number is :  65\n",
      "Odd number is :  67\n",
      "Odd number is :  69\n",
      "Odd number is :  71\n",
      "Odd number is :  73\n",
      "Odd number is :  75\n",
      "Odd number is :  77\n",
      "Odd number is :  79\n",
      "Odd number is :  81\n",
      "Odd number is :  83\n",
      "Odd number is :  85\n",
      "Odd number is :  87\n",
      "Odd number is :  89\n",
      "Odd number is :  91\n",
      "Odd number is :  93\n",
      "Odd number is :  95\n",
      "Odd number is :  97\n",
      "Odd number is :  99\n"
     ]
    }
   ],
   "source": [
    "### print only Odd numbers between 1 and 100\n",
    "number = 1\n",
    "while number <= 100:\n",
    "    if number % 2 != 0:   # any number if its divided by 2 and gives a reminder(modulo) of zero is even\n",
    "        print('Odd number is : ',number)       \n",
    "    number +=1"
   ]
  },
  {
   "cell_type": "code",
   "execution_count": 32,
   "metadata": {},
   "outputs": [
    {
     "name": "stdout",
     "output_type": "stream",
     "text": [
      "Please add a new name'python'\n",
      "Please add a new name'java'\n",
      "Please add a new nameoracle\n",
      "Please add a new name'c++'\n",
      "Please add a new name1000\n",
      "Please add a new name24999\n",
      "Please add a new name250.99\n",
      "Please add a new namethis is a string\n",
      "Please add a new name(1,2)\n",
      "Please add a new name{'k1':1000}\n",
      "max list length reached\n"
     ]
    }
   ],
   "source": [
    "### WHILE LOOPS with data objects\n",
    "mywhilelist = []\n",
    "while len(mywhilelist) < 10:\n",
    "    new_name = input(\"Please add a new name\")           #### input from console\n",
    "    mywhilelist.append(new_name)\n",
    "print(\"max list length reached\")\n"
   ]
  },
  {
   "cell_type": "code",
   "execution_count": null,
   "metadata": {},
   "outputs": [],
   "source": []
  },
  {
   "cell_type": "code",
   "execution_count": 33,
   "metadata": {},
   "outputs": [
    {
     "name": "stdout",
     "output_type": "stream",
     "text": [
      "[\"'python'\", \"'java'\", 'oracle', \"'c++'\", '1000', '24999', '250.99', 'this is a string', '(1,2)', \"{'k1':1000}\"]\n"
     ]
    }
   ],
   "source": [
    "print(mywhilelist)"
   ]
  },
  {
   "cell_type": "code",
   "execution_count": null,
   "metadata": {},
   "outputs": [],
   "source": [
    "x=0\n",
    "while x<=10:\n",
    "    print('current of x is ',x)\n",
    "    print('x is still less than 10, so add 1 to x')\n",
    "    x = x + 1            ### x += 1"
   ]
  },
  {
   "cell_type": "code",
   "execution_count": 88,
   "metadata": {},
   "outputs": [
    {
     "name": "stdout",
     "output_type": "stream",
     "text": [
      "current value of w is 0\n",
      "currently w is still less than 10\n",
      "w is incremented,new val of w is  1\n",
      "current value of w is 1\n",
      "currently w is still less than 10\n",
      "w is incremented,new val of w is  2\n",
      "current value of w is 2\n",
      "currently w is still less than 10\n",
      "w is incremented,new val of w is  3\n",
      "current value of w is 3\n",
      "currently w is still less than 10\n",
      "w is incremented,new val of w is  4\n",
      "current value of w is 4\n",
      "currently w is still less than 10\n",
      "w is incremented,new val of w is  5\n",
      "current value of w is 5\n",
      "currently w is still less than 10\n",
      "w is incremented,new val of w is  6\n",
      "current value of w is 6\n",
      "currently w is still less than 10\n",
      "w is incremented,new val of w is  7\n",
      "current value of w is 7\n",
      "currently w is still less than 10\n",
      "w is incremented,new val of w is  8\n",
      "current value of w is 8\n",
      "currently w is still less than 10\n",
      "w is incremented,new val of w is  9\n",
      "current value of w is 9\n",
      "currently w is still less than 10\n",
      "w is incremented,new val of w is  10\n",
      "all iterations are done\n"
     ]
    }
   ],
   "source": [
    "### different formats of while\n",
    "w = 0\n",
    "while w < 10:\n",
    "    print('current value of w is', w)\n",
    "    print('currently w is still less than 10')\n",
    "    w += 1  ### similar to w = w + 1\n",
    "    print('w is incremented,new val of w is ', w)\n",
    "else:\n",
    "    print('all iterations are done')\n"
   ]
  },
  {
   "cell_type": "markdown",
   "metadata": {},
   "source": [
    "##### break --continue -- pass in While loops\n",
    "\n",
    "break: Breaks out of the current closest enclosing loop. \n",
    "\n",
    "continue: Goes to the top of the closest enclosing loop. \n",
    "\n",
    "pass: Does nothing at all.\n",
    "\n",
    "while test: code statement if test: break if test: conutee else:"
   ]
  },
  {
   "cell_type": "markdown",
   "metadata": {},
   "source": [
    "# pass: Does nothing at all\n"
   ]
  },
  {
   "cell_type": "code",
   "execution_count": 34,
   "metadata": {},
   "outputs": [
    {
     "ename": "SyntaxError",
     "evalue": "unexpected EOF while parsing (<ipython-input-34-fd23c6dbad06>, line 10)",
     "output_type": "error",
     "traceback": [
      "\u001b[1;36m  File \u001b[1;32m\"<ipython-input-34-fd23c6dbad06>\"\u001b[1;36m, line \u001b[1;32m10\u001b[0m\n\u001b[1;33m    ### used a lot of times with loops\u001b[0m\n\u001b[1;37m                                      ^\u001b[0m\n\u001b[1;31mSyntaxError\u001b[0m\u001b[1;31m:\u001b[0m unexpected EOF while parsing\n"
     ]
    }
   ],
   "source": [
    "### This code will result in error because there is no action being performed\n",
    "sample = [1,2,3]\n",
    "for itm in sample:\n",
    "    ###for infinite loop\n",
    "\n",
    "## This is common while writing a program because the programmer may not know all the conditions and actions required for \n",
    "### for a for loop at the beginning.\n",
    "\n",
    "### if the programmer wants to just write the for loop just as a place holder and then later fill in with actions, \"PASS\" can be used\n",
    "### used a lot of times with loops\n"
   ]
  },
  {
   "cell_type": "code",
   "execution_count": 50,
   "metadata": {},
   "outputs": [
    {
     "name": "stdout",
     "output_type": "stream",
     "text": [
      "inside for\n",
      "inside for\n",
      "inside for\n",
      "rest of the program\n"
     ]
    }
   ],
   "source": [
    "## \n",
    "sample = [1,2,3]\n",
    "for itm in sample:\n",
    "    pass\n",
    "    print('inside for')\n",
    "## no output is expected out of a pass\n",
    "\n",
    "print('rest of the program')"
   ]
  },
  {
   "cell_type": "code",
   "execution_count": 49,
   "metadata": {},
   "outputs": [],
   "source": []
  },
  {
   "cell_type": "code",
   "execution_count": null,
   "metadata": {},
   "outputs": [],
   "source": []
  },
  {
   "cell_type": "markdown",
   "metadata": {},
   "source": [
    "### continue: Goes to the top of the closest enclosing loop. \n"
   ]
  },
  {
   "cell_type": "code",
   "execution_count": 36,
   "metadata": {},
   "outputs": [],
   "source": [
    "mystring = 'python'\n"
   ]
  },
  {
   "cell_type": "code",
   "execution_count": 37,
   "metadata": {},
   "outputs": [
    {
     "name": "stdout",
     "output_type": "stream",
     "text": [
      "p\n",
      "y\n",
      "t\n",
      "h\n",
      "o\n",
      "n\n"
     ]
    }
   ],
   "source": [
    "for letter in mystring:\n",
    "    print(letter)"
   ]
  },
  {
   "cell_type": "code",
   "execution_count": 39,
   "metadata": {},
   "outputs": [
    {
     "name": "stdout",
     "output_type": "stream",
     "text": [
      "p\n",
      "y\n",
      "h\n",
      "o\n",
      "n\n"
     ]
    }
   ],
   "source": [
    "### let us say we do not want to print letter \"t\"\n",
    "for letter in mystring:\n",
    "    if letter == 't':\n",
    "        continue\n",
    "    print(letter)"
   ]
  },
  {
   "cell_type": "code",
   "execution_count": 45,
   "metadata": {},
   "outputs": [
    {
     "name": "stdout",
     "output_type": "stream",
     "text": [
      "inside for loop, value of letter is: p\n",
      "still within for loop: p\n",
      "inside for loop, value of letter is: y\n",
      "still within for loop: y\n",
      "inside for loop, value of letter is: t\n",
      "inside if condition, letter is now: t\n",
      "inside for loop, value of letter is: h\n",
      "still within for loop: h\n",
      "inside for loop, value of letter is: o\n",
      "still within for loop: o\n",
      "inside for loop, value of letter is: n\n",
      "still within for loop: n\n",
      "outside for loop,the final value of letter is:  n\n"
     ]
    }
   ],
   "source": [
    "### let us say we do not want to print letter \"t\"\n",
    "for letter in 'python':\n",
    "    print('inside for loop, value of letter is:',letter)\n",
    "    if letter == 't':\n",
    "        print('inside if condition, letter is now:',letter)\n",
    "        continue\n",
    "        print('inside if , but after continue')\n",
    "    print('still within for loop:',letter)\n",
    "\n",
    "print('outside for loop,the final value of letter is: ',letter)"
   ]
  },
  {
   "cell_type": "markdown",
   "metadata": {},
   "source": [
    "######\n",
    " - note in the above case, lettere \"t\" is not printed because of the continue statemeent\n",
    " - the control goes to the top of the for loop and prints the other letters\n",
    " - remember the control goes back to the loop and not the closest statement"
   ]
  },
  {
   "cell_type": "code",
   "execution_count": null,
   "metadata": {},
   "outputs": [],
   "source": []
  },
  {
   "cell_type": "markdown",
   "metadata": {},
   "source": [
    "#\n",
    "break\n",
    "- Breaks out of the current closest enclosing loop. \n"
   ]
  },
  {
   "cell_type": "code",
   "execution_count": 46,
   "metadata": {},
   "outputs": [
    {
     "name": "stdout",
     "output_type": "stream",
     "text": [
      "p\n",
      "still within for\n",
      "y\n",
      "still within for\n",
      "outside of for loop\n"
     ]
    }
   ],
   "source": [
    "for letter in mystring:\n",
    "\n",
    "    if letter == 't':\n",
    "        break\n",
    "        \n",
    "    print(letter)            ### OUTSIDE IF COND, BUT WITHIN FOR \n",
    "    print('still within for') ### OUTSIDEE IF COND, BUT WITHIN FOR\n",
    "    \n",
    "print(\"outside of for loop\") ### TOTALL OUTSIDE OF FOR LOOP"
   ]
  },
  {
   "cell_type": "markdown",
   "metadata": {},
   "source": [
    "### please note that after the if statement checks if letter == 't'\n",
    "        -the break statement will transfer control out of the current closest enclosing loop\n",
    "          as a result, you see the letter printed and also \"still within for loop'\n",
    "          \n",
    "        - once all the letters have been checked, the control goes to \"outside of for loop\")\n",
    "    \n",
    "    "
   ]
  },
  {
   "cell_type": "markdown",
   "metadata": {},
   "source": [
    "###### now see what happens when \"print(letter)\" is moved within the \"if statement\" as below"
   ]
  },
  {
   "cell_type": "code",
   "execution_count": 21,
   "metadata": {},
   "outputs": [
    {
     "name": "stdout",
     "output_type": "stream",
     "text": [
      "within for : p\n",
      "still within for\n",
      "within for : y\n",
      "still within for\n",
      "within for : t\n",
      "outside of for loop\n"
     ]
    }
   ],
   "source": [
    "for letter in mystring:\n",
    "    print('within for :',letter)\n",
    "     \n",
    "    if letter == 't':\n",
    "        \n",
    "        break\n",
    "        \n",
    "        print(letter)\n",
    "        \n",
    "    print('still within for')         ### still within for but outside if \n",
    "    \n",
    "print(\"outside of for loop\")          ### outside for"
   ]
  },
  {
   "cell_type": "markdown",
   "metadata": {},
   "source": [
    "## break with while statement"
   ]
  },
  {
   "cell_type": "code",
   "execution_count": 47,
   "metadata": {},
   "outputs": [
    {
     "name": "stdout",
     "output_type": "stream",
     "text": [
      "0\n",
      "1\n",
      "2\n",
      "3\n",
      "4\n"
     ]
    }
   ],
   "source": [
    "x = 0\n",
    "while x < 5:\n",
    "    print(x)\n",
    "    x +=1"
   ]
  },
  {
   "cell_type": "markdown",
   "metadata": {},
   "source": [
    "#######  let us break this while loop"
   ]
  },
  {
   "cell_type": "code",
   "execution_count": 27,
   "metadata": {},
   "outputs": [
    {
     "name": "stdout",
     "output_type": "stream",
     "text": [
      "inside while : 0\n",
      "outside while\n",
      "add x and go to next iteration: 1\n",
      "inside while : 1\n",
      "outside while\n",
      "add x and go to next iteration: 2\n",
      "inside while : 2\n",
      "inside if : 2\n",
      "totally out of while, final value of x is : 2\n"
     ]
    }
   ],
   "source": [
    "x = 0\n",
    "while x < 5:\n",
    "    print('inside while :',x)\n",
    "    if x == 2:\n",
    "        print('inside if :',x)\n",
    "        break\n",
    "    print('outside while')\n",
    "    x +=1\n",
    "    print('add x and go to next iteration:',x)\n",
    "\n",
    "print('totally out of while, final value of x is :',x)"
   ]
  },
  {
   "cell_type": "code",
   "execution_count": null,
   "metadata": {},
   "outputs": [],
   "source": []
  },
  {
   "cell_type": "code",
   "execution_count": null,
   "metadata": {},
   "outputs": [],
   "source": []
  },
  {
   "cell_type": "code",
   "execution_count": null,
   "metadata": {},
   "outputs": [],
   "source": []
  },
  {
   "cell_type": "code",
   "execution_count": null,
   "metadata": {},
   "outputs": [],
   "source": []
  },
  {
   "cell_type": "code",
   "execution_count": null,
   "metadata": {},
   "outputs": [],
   "source": []
  },
  {
   "cell_type": "code",
   "execution_count": 97,
   "metadata": {},
   "outputs": [
    {
     "name": "stdout",
     "output_type": "stream",
     "text": [
      "current value of x is  0\n",
      " x is still less than 8\n",
      "x is incremented to  1\n",
      "x is incremented post else\n",
      "continuing....\n",
      "current value of x is  1\n",
      " x is still less than 8\n",
      "x is incremented to  2\n",
      "x is incremented post else\n",
      "continuing....\n",
      "current value of x is  2\n",
      " x is still less than 8\n",
      "x is incremented to  3\n",
      "x==3\n",
      "current value of x is  3\n",
      " x is still less than 8\n",
      "x is incremented to  4\n",
      "x is incremented post else\n",
      "continuing....\n",
      "current value of x is  4\n",
      " x is still less than 8\n",
      "x is incremented to  5\n",
      "x is incremented post else\n",
      "continuing....\n",
      "current value of x is  5\n",
      " x is still less than 8\n",
      "x is incremented to  6\n",
      "x is incremented post else\n",
      "continuing....\n",
      "current value of x is  6\n",
      " x is still less than 8\n",
      "x is incremented to  7\n",
      "x is incremented post else\n",
      "continuing....\n",
      "current value of x is  7\n",
      " x is still less than 8\n",
      "x is incremented to  8\n",
      "x is incremented post else\n",
      "continuing....\n",
      "out of while loop\n"
     ]
    }
   ],
   "source": [
    "### example for continue\n",
    "x = 0\n",
    "while x < 8:\n",
    "    print('current value of x is ', x)\n",
    "    print(' x is still less than 8')\n",
    "    x = x + 1\n",
    "    print('x is incremented to ', x)\n",
    "    if x == 3:\n",
    "        print('x==3')\n",
    "    else:\n",
    "        print('x is incremented post else')\n",
    "        print('continuing....')\n",
    "        continue\n",
    "        print('after continue')\n",
    "\n",
    "print(\"out of while loop\")"
   ]
  },
  {
   "cell_type": "code",
   "execution_count": null,
   "metadata": {},
   "outputs": [],
   "source": [
    "-"
   ]
  },
  {
   "cell_type": "code",
   "execution_count": null,
   "metadata": {},
   "outputs": [],
   "source": []
  },
  {
   "cell_type": "code",
   "execution_count": null,
   "metadata": {},
   "outputs": [],
   "source": []
  },
  {
   "cell_type": "code",
   "execution_count": null,
   "metadata": {},
   "outputs": [],
   "source": []
  },
  {
   "cell_type": "code",
   "execution_count": null,
   "metadata": {},
   "outputs": [],
   "source": []
  }
 ],
 "metadata": {
  "kernelspec": {
   "display_name": "Python 3",
   "language": "python",
   "name": "python3"
  },
  "language_info": {
   "codemirror_mode": {
    "name": "ipython",
    "version": 3
   },
   "file_extension": ".py",
   "mimetype": "text/x-python",
   "name": "python",
   "nbconvert_exporter": "python",
   "pygments_lexer": "ipython3",
   "version": "3.7.2"
  }
 },
 "nbformat": 4,
 "nbformat_minor": 2
}
