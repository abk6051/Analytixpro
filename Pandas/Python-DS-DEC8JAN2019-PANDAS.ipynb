{
 "cells": [
  {
   "cell_type": "markdown",
   "metadata": {},
   "source": [
    "Pandas and Numpy need to be loaded as packages using import statements\n",
    "\n",
    "import pandas as pd\n",
    "import numpy as np\n",
    "\n",
    "ideally upon installing anaconda these packages should be automatically loaded. just like jupyter.\n",
    "in case there are issues, please follow the below steps\n",
    "\n",
    "left click Windows Start ==> on the applications pane ==> click on anaconda ==> click on anaconda prompt ==> in the prompt type \n",
    "===> conda install pandas==> pandas will get installed\n",
    "\n",
    "===> conda install numpy  ===> numpy will get installed\n",
    "\n",
    "\n"
   ]
  },
  {
   "cell_type": "code",
   "execution_count": 2,
   "metadata": {},
   "outputs": [],
   "source": [
    "import pandas as pd"
   ]
  },
  {
   "cell_type": "code",
   "execution_count": 3,
   "metadata": {},
   "outputs": [],
   "source": [
    "import numpy as np"
   ]
  },
  {
   "cell_type": "markdown",
   "metadata": {},
   "source": [
    "### Let us create different python objects\n",
    "\n"
   ]
  },
  {
   "cell_type": "code",
   "execution_count": 9,
   "metadata": {},
   "outputs": [],
   "source": [
    "##### new list called  \"labels\" with strings\n",
    "labels = ['a','b','c','d','e']"
   ]
  },
  {
   "cell_type": "code",
   "execution_count": 10,
   "metadata": {},
   "outputs": [],
   "source": [
    "#### create a new list of numbers\n",
    "my_data = [10,20,30,40,50]"
   ]
  },
  {
   "cell_type": "code",
   "execution_count": 11,
   "metadata": {},
   "outputs": [],
   "source": [
    "#### create a new numpy array\n",
    "myarr = np.array(my_data)"
   ]
  },
  {
   "cell_type": "code",
   "execution_count": 15,
   "metadata": {},
   "outputs": [],
   "source": [
    "### create a dictionary\n",
    "mydict = {'key1':10, 'key2':20, 'key3':100,'key4':40,'key5':50}"
   ]
  },
  {
   "cell_type": "code",
   "execution_count": 17,
   "metadata": {},
   "outputs": [
    {
     "name": "stdout",
     "output_type": "stream",
     "text": [
      "['a', 'b', 'c', 'd', 'e']\n",
      "[10, 20, 30, 40, 50]\n",
      "[10 20 30 40 50]\n",
      "{'key1': 10, 'key2': 20, 'key3': 100, 'key4': 40, 'key5': 50}\n"
     ]
    }
   ],
   "source": [
    "### print everything\n",
    "print(labels)\n",
    "print(my_data)\n",
    "print(myarr)\n",
    "print(mydict)"
   ]
  },
  {
   "cell_type": "code",
   "execution_count": 18,
   "metadata": {},
   "outputs": [],
   "source": [
    "### create a new series\n",
    "### series takes a lot of parameters. but we will ONLY focus on parameters called \"data\" and \"index\"\n"
   ]
  },
  {
   "cell_type": "code",
   "execution_count": 21,
   "metadata": {},
   "outputs": [
    {
     "data": {
      "text/plain": [
       "0    10\n",
       "1    20\n",
       "2    30\n",
       "3    40\n",
       "4    50\n",
       "dtype: int64"
      ]
     },
     "execution_count": 21,
     "metadata": {},
     "output_type": "execute_result"
    }
   ],
   "source": [
    "## method 1 - create a series out of a list my_data\n",
    "pd.Series(data=my_data)"
   ]
  },
  {
   "cell_type": "code",
   "execution_count": 23,
   "metadata": {},
   "outputs": [
    {
     "name": "stdout",
     "output_type": "stream",
     "text": [
      "a    10\n",
      "b    20\n",
      "c    30\n",
      "d    40\n",
      "e    50\n",
      "dtype: int64\n"
     ]
    }
   ],
   "source": [
    "### create a series with \"data \" parametre from  my_data list and we want to change the index parameter using \"labels\" list\n",
    "my_series = pd.Series(data=my_data,index=labels)\n",
    "print(my_series)"
   ]
  },
  {
   "cell_type": "code",
   "execution_count": 27,
   "metadata": {},
   "outputs": [
    {
     "name": "stdout",
     "output_type": "stream",
     "text": [
      "a    10\n",
      "b    20\n",
      "c    30\n",
      "d    40\n",
      "e    50\n",
      "dtype: int64\n"
     ]
    }
   ],
   "source": [
    "### another way of creating a series\n",
    "my_series1 = pd.Series(my_data,labels)\n",
    "print(my_series1)"
   ]
  },
  {
   "cell_type": "code",
   "execution_count": 29,
   "metadata": {},
   "outputs": [
    {
     "name": "stdout",
     "output_type": "stream",
     "text": [
      "a      (1, 2)\n",
      "b    (aa, bb)\n",
      "c      (3, 4)\n",
      "d    (cc, dd)\n",
      "e    (50, 60)\n",
      "dtype: object\n"
     ]
    }
   ],
   "source": [
    "### create a series from a tuple\n",
    "## create my_tup\n",
    "my_tup = ((1,2),('aa','bb'),(3,4),('cc','dd'),(50,60))\n",
    "my_tup_series = pd.Series(data=my_tup,index=labels)\n",
    "print(my_tup_series)"
   ]
  },
  {
   "cell_type": "code",
   "execution_count": 31,
   "metadata": {},
   "outputs": [
    {
     "ename": "ValueError",
     "evalue": "Length of passed values is 4, index implies 5",
     "output_type": "error",
     "traceback": [
      "\u001b[1;31m---------------------------------------------------------------------------\u001b[0m",
      "\u001b[1;31mValueError\u001b[0m                                Traceback (most recent call last)",
      "\u001b[1;32m<ipython-input-31-4b4e44b44229>\u001b[0m in \u001b[0;36m<module>\u001b[1;34m()\u001b[0m\n\u001b[0;32m      1\u001b[0m \u001b[0mmy_tup\u001b[0m \u001b[1;33m=\u001b[0m \u001b[1;33m(\u001b[0m\u001b[1;33m(\u001b[0m\u001b[1;36m1\u001b[0m\u001b[1;33m,\u001b[0m\u001b[1;36m2\u001b[0m\u001b[1;33m)\u001b[0m\u001b[1;33m,\u001b[0m\u001b[1;33m(\u001b[0m\u001b[1;34m'aa'\u001b[0m\u001b[1;33m,\u001b[0m\u001b[1;34m'bb'\u001b[0m\u001b[1;33m)\u001b[0m\u001b[1;33m,\u001b[0m\u001b[1;33m(\u001b[0m\u001b[1;36m3\u001b[0m\u001b[1;33m,\u001b[0m\u001b[1;36m4\u001b[0m\u001b[1;33m)\u001b[0m\u001b[1;33m,\u001b[0m\u001b[1;33m(\u001b[0m\u001b[1;34m'cc'\u001b[0m\u001b[1;33m,\u001b[0m\u001b[1;34m'dd'\u001b[0m\u001b[1;33m)\u001b[0m\u001b[1;33m)\u001b[0m\u001b[1;33m\u001b[0m\u001b[0m\n\u001b[1;32m----> 2\u001b[1;33m \u001b[0mmy_tup_series1\u001b[0m \u001b[1;33m=\u001b[0m \u001b[0mpd\u001b[0m\u001b[1;33m.\u001b[0m\u001b[0mSeries\u001b[0m\u001b[1;33m(\u001b[0m\u001b[0mdata\u001b[0m\u001b[1;33m=\u001b[0m\u001b[0mmy_tup\u001b[0m\u001b[1;33m,\u001b[0m\u001b[0mindex\u001b[0m\u001b[1;33m=\u001b[0m\u001b[0mlabels\u001b[0m\u001b[1;33m)\u001b[0m\u001b[1;33m\u001b[0m\u001b[0m\n\u001b[0m\u001b[0;32m      3\u001b[0m \u001b[0mprint\u001b[0m\u001b[1;33m(\u001b[0m\u001b[0mmy_tup_series\u001b[0m\u001b[1;33m)\u001b[0m\u001b[1;33m\u001b[0m\u001b[0m\n\u001b[0;32m      4\u001b[0m \u001b[1;33m\u001b[0m\u001b[0m\n\u001b[0;32m      5\u001b[0m \u001b[1;31m### indexes and contents need to align/match\u001b[0m\u001b[1;33m\u001b[0m\u001b[1;33m\u001b[0m\u001b[0m\n",
      "\u001b[1;32mD:\\anaconda\\lib\\site-packages\\pandas\\core\\series.py\u001b[0m in \u001b[0;36m__init__\u001b[1;34m(self, data, index, dtype, name, copy, fastpath)\u001b[0m\n\u001b[0;32m    259\u001b[0m                             \u001b[1;34m'Length of passed values is {val}, '\u001b[0m\u001b[1;33m\u001b[0m\u001b[0m\n\u001b[0;32m    260\u001b[0m                             \u001b[1;34m'index implies {ind}'\u001b[0m\u001b[1;33m\u001b[0m\u001b[0m\n\u001b[1;32m--> 261\u001b[1;33m                             .format(val=len(data), ind=len(index)))\n\u001b[0m\u001b[0;32m    262\u001b[0m                 \u001b[1;32mexcept\u001b[0m \u001b[0mTypeError\u001b[0m\u001b[1;33m:\u001b[0m\u001b[1;33m\u001b[0m\u001b[0m\n\u001b[0;32m    263\u001b[0m                     \u001b[1;32mpass\u001b[0m\u001b[1;33m\u001b[0m\u001b[0m\n",
      "\u001b[1;31mValueError\u001b[0m: Length of passed values is 4, index implies 5"
     ]
    }
   ],
   "source": [
    "my_tup = ((1,2),('aa','bb'),(3,4),('cc','dd'))\n",
    "my_tup_series1 = pd.Series(data=my_tup,index=labels)\n",
    "print(my_tup_series)\n",
    "\n",
    "### indexes and contents need to align/match"
   ]
  },
  {
   "cell_type": "code",
   "execution_count": 33,
   "metadata": {},
   "outputs": [
    {
     "name": "stdout",
     "output_type": "stream",
     "text": [
      "a    10\n",
      "b    20\n",
      "c    30\n",
      "d    40\n",
      "e    50\n",
      "dtype: int32\n"
     ]
    }
   ],
   "source": [
    "## create a series by using numpy array and labeled index \n",
    "my_ser3 = pd.Series(data=myarr,index=labels)\n",
    "print(my_ser3)"
   ]
  },
  {
   "cell_type": "code",
   "execution_count": 34,
   "metadata": {},
   "outputs": [
    {
     "name": "stdout",
     "output_type": "stream",
     "text": [
      "0    10\n",
      "1    20\n",
      "2    30\n",
      "3    40\n",
      "4    50\n",
      "dtype: int32\n"
     ]
    }
   ],
   "source": [
    "###\n",
    "my_ser4 = pd.Series(myarr)\n",
    "print(my_ser4)"
   ]
  },
  {
   "cell_type": "code",
   "execution_count": 37,
   "metadata": {},
   "outputs": [
    {
     "name": "stdout",
     "output_type": "stream",
     "text": [
      "{'key1': 10, 'key2': 20, 'key3': 100, 'key4': 40, 'key5': 50}\n",
      "['python', 'scala', 'java', 'c++', 'cobol']\n"
     ]
    }
   ],
   "source": [
    "### create a series from a dictionary\n",
    "mydict\n",
    "\n",
    "mylabel = ['python','scala','java','c++','cobol']\n",
    "\n",
    "print(mydict)\n",
    "print(mylabel)"
   ]
  },
  {
   "cell_type": "code",
   "execution_count": 38,
   "metadata": {},
   "outputs": [
    {
     "name": "stdout",
     "output_type": "stream",
     "text": [
      "key1     10\n",
      "key2     20\n",
      "key3    100\n",
      "key4     40\n",
      "key5     50\n",
      "dtype: int64\n"
     ]
    }
   ],
   "source": [
    "my_series_5 = pd.Series(data=mydict)\n",
    "print(my_series_5)"
   ]
  },
  {
   "cell_type": "code",
   "execution_count": 40,
   "metadata": {},
   "outputs": [
    {
     "name": "stdout",
     "output_type": "stream",
     "text": [
      "python   NaN\n",
      "scala    NaN\n",
      "java     NaN\n",
      "c++      NaN\n",
      "cobol    NaN\n",
      "dtype: float64\n"
     ]
    }
   ],
   "source": [
    "my_series_6 = pd.Series(data=mydict,index=mylabel)\n",
    "print(my_series_6)"
   ]
  },
  {
   "cell_type": "code",
   "execution_count": 41,
   "metadata": {},
   "outputs": [
    {
     "data": {
      "text/plain": [
       "['python', 'scala', 'java', 'c++', 'cobol']"
      ]
     },
     "execution_count": 41,
     "metadata": {},
     "output_type": "execute_result"
    }
   ],
   "source": [
    "mylabel "
   ]
  },
  {
   "cell_type": "code",
   "execution_count": 46,
   "metadata": {},
   "outputs": [],
   "source": [
    "mylabel[4] = 'key5'"
   ]
  },
  {
   "cell_type": "code",
   "execution_count": 47,
   "metadata": {},
   "outputs": [
    {
     "data": {
      "text/plain": [
       "['python', 'scala', 'java', 'c++', 'key5']"
      ]
     },
     "execution_count": 47,
     "metadata": {},
     "output_type": "execute_result"
    }
   ],
   "source": [
    "mylabel"
   ]
  },
  {
   "cell_type": "code",
   "execution_count": 48,
   "metadata": {},
   "outputs": [
    {
     "name": "stdout",
     "output_type": "stream",
     "text": [
      "python     NaN\n",
      "scala      NaN\n",
      "java       NaN\n",
      "c++        NaN\n",
      "key5      50.0\n",
      "dtype: float64\n"
     ]
    }
   ],
   "source": [
    "my_series_7 = pd.Series(data=mydict,index=mylabel)\n",
    "print(my_series_7)"
   ]
  },
  {
   "cell_type": "markdown",
   "metadata": {},
   "source": [
    "### Getting data from Series"
   ]
  },
  {
   "cell_type": "code",
   "execution_count": 49,
   "metadata": {},
   "outputs": [],
   "source": [
    "myseries_8 = pd.Series(data=[1,2,3,4],index=['dog','cat','cow','pig'])\n",
    "\n",
    "### data is 1,2,3,4 and index is dog, cat, cow and pig"
   ]
  },
  {
   "cell_type": "code",
   "execution_count": 50,
   "metadata": {},
   "outputs": [
    {
     "name": "stdout",
     "output_type": "stream",
     "text": [
      "dog    1\n",
      "cat    2\n",
      "cow    3\n",
      "pig    4\n",
      "dtype: int64\n"
     ]
    }
   ],
   "source": [
    "print(myseries_8)"
   ]
  },
  {
   "cell_type": "code",
   "execution_count": 54,
   "metadata": {},
   "outputs": [
    {
     "name": "stdout",
     "output_type": "stream",
     "text": [
      "indx1    100\n",
      "indx2    200\n",
      "indx3    300\n",
      "indx4    400\n",
      "indx5    399\n",
      "indx6    599\n",
      "indx7    199\n",
      "dtype: int64\n"
     ]
    }
   ],
   "source": [
    "myseries_9 = pd.Series(data=[100,200,300,400,399,599,199],index=['indx1','indx2','indx3','indx4','indx5','indx6','indx7'])\n",
    "print(myseries_9)"
   ]
  },
  {
   "cell_type": "code",
   "execution_count": 55,
   "metadata": {},
   "outputs": [
    {
     "data": {
      "text/plain": [
       "599"
      ]
     },
     "execution_count": 55,
     "metadata": {},
     "output_type": "execute_result"
    }
   ],
   "source": [
    "myseries_9['indx6']"
   ]
  },
  {
   "cell_type": "code",
   "execution_count": 56,
   "metadata": {},
   "outputs": [
    {
     "data": {
      "text/plain": [
       "599"
      ]
     },
     "execution_count": 56,
     "metadata": {},
     "output_type": "execute_result"
    }
   ],
   "source": [
    "myseries_9[5]"
   ]
  },
  {
   "cell_type": "code",
   "execution_count": 57,
   "metadata": {},
   "outputs": [],
   "source": [
    "### create numpy array with country names\n",
    "np_country = np.array(['china','india','senegal','tanzania','nigeria','costa rica','fiji','samoa','indonesia','germany'])"
   ]
  },
  {
   "cell_type": "code",
   "execution_count": 59,
   "metadata": {},
   "outputs": [
    {
     "name": "stdout",
     "output_type": "stream",
     "text": [
      "0         china\n",
      "1         india\n",
      "2       senegal\n",
      "3      tanzania\n",
      "4       nigeria\n",
      "5    costa rica\n",
      "6          fiji\n",
      "7         samoa\n",
      "8     indonesia\n",
      "9       germany\n",
      "dtype: object\n"
     ]
    }
   ],
   "source": [
    "### create a series with np_country\n",
    "series_country = pd.Series(data=np_country)\n",
    "print(series_country)"
   ]
  },
  {
   "cell_type": "code",
   "execution_count": 60,
   "metadata": {},
   "outputs": [],
   "source": [
    "### create an array of labels\n",
    "np_country_labels = np.array(['lab1','lab2','lab3','lab4','lab5','lab6','lab7','lab8','lab9','lab10'])"
   ]
  },
  {
   "cell_type": "code",
   "execution_count": 62,
   "metadata": {},
   "outputs": [
    {
     "name": "stdout",
     "output_type": "stream",
     "text": [
      "lab1          china\n",
      "lab2          india\n",
      "lab3        senegal\n",
      "lab4       tanzania\n",
      "lab5        nigeria\n",
      "lab6     costa rica\n",
      "lab7           fiji\n",
      "lab8          samoa\n",
      "lab9      indonesia\n",
      "lab10       germany\n",
      "dtype: object\n"
     ]
    }
   ],
   "source": [
    "## create a new series with labels\n",
    "series_country1 = pd.Series(data=np_country, index=np_country_labels)\n",
    "print(series_country1)"
   ]
  },
  {
   "cell_type": "code",
   "execution_count": 63,
   "metadata": {},
   "outputs": [
    {
     "name": "stdout",
     "output_type": "stream",
     "text": [
      "china\n"
     ]
    }
   ],
   "source": [
    "###alternate ways of accessing data from a series\n",
    "print(series_country1.loc['lab1'])"
   ]
  },
  {
   "cell_type": "code",
   "execution_count": 65,
   "metadata": {},
   "outputs": [
    {
     "name": "stdout",
     "output_type": "stream",
     "text": [
      "china\n"
     ]
    }
   ],
   "source": [
    "print(series_country1['lab1'])"
   ]
  },
  {
   "cell_type": "code",
   "execution_count": 67,
   "metadata": {},
   "outputs": [
    {
     "name": "stdout",
     "output_type": "stream",
     "text": [
      "china\n"
     ]
    }
   ],
   "source": [
    "print(series_country1[0])"
   ]
  },
  {
   "cell_type": "code",
   "execution_count": 68,
   "metadata": {},
   "outputs": [
    {
     "name": "stdout",
     "output_type": "stream",
     "text": [
      "china\n"
     ]
    }
   ],
   "source": [
    "print(series_country1.iloc[0])"
   ]
  },
  {
   "cell_type": "markdown",
   "metadata": {},
   "source": [
    "### SCALAR SERIES\n"
   ]
  },
  {
   "cell_type": "code",
   "execution_count": 70,
   "metadata": {},
   "outputs": [
    {
     "name": "stdout",
     "output_type": "stream",
     "text": [
      "a    500\n",
      "b    500\n",
      "c    500\n",
      "d    500\n",
      "dtype: int64\n"
     ]
    }
   ],
   "source": [
    "series_scalar = pd.Series(data=500,index=['a','b','c','d'])\n",
    "print(series_scalar)"
   ]
  },
  {
   "cell_type": "code",
   "execution_count": 71,
   "metadata": {},
   "outputs": [
    {
     "data": {
      "text/plain": [
       "lab1          china\n",
       "lab2          india\n",
       "lab3        senegal\n",
       "lab4       tanzania\n",
       "lab5        nigeria\n",
       "lab6     costa rica\n",
       "lab7           fiji\n",
       "lab8          samoa\n",
       "lab9      indonesia\n",
       "lab10       germany\n",
       "dtype: object"
      ]
     },
     "execution_count": 71,
     "metadata": {},
     "output_type": "execute_result"
    }
   ],
   "source": [
    "series_country1"
   ]
  },
  {
   "cell_type": "code",
   "execution_count": 72,
   "metadata": {},
   "outputs": [
    {
     "data": {
      "text/plain": [
       "lab1      china\n",
       "lab2      india\n",
       "lab3    senegal\n",
       "dtype: object"
      ]
     },
     "execution_count": 72,
     "metadata": {},
     "output_type": "execute_result"
    }
   ],
   "source": [
    "series_country1['lab1':'lab3']"
   ]
  },
  {
   "cell_type": "code",
   "execution_count": 73,
   "metadata": {},
   "outputs": [
    {
     "data": {
      "text/plain": [
       "lab1      china\n",
       "lab2      india\n",
       "lab3    senegal\n",
       "dtype: object"
      ]
     },
     "execution_count": 73,
     "metadata": {},
     "output_type": "execute_result"
    }
   ],
   "source": [
    "series_country1.loc['lab1':'lab3']"
   ]
  },
  {
   "cell_type": "code",
   "execution_count": 75,
   "metadata": {},
   "outputs": [
    {
     "data": {
      "text/plain": [
       "lab1      china\n",
       "lab2      india\n",
       "lab3    senegal\n",
       "dtype: object"
      ]
     },
     "execution_count": 75,
     "metadata": {},
     "output_type": "execute_result"
    }
   ],
   "source": [
    "series_country1.iloc[0:3]"
   ]
  },
  {
   "cell_type": "code",
   "execution_count": 77,
   "metadata": {},
   "outputs": [
    {
     "data": {
      "text/plain": [
       "lab1      china\n",
       "lab3    senegal\n",
       "dtype: object"
      ]
     },
     "execution_count": 77,
     "metadata": {},
     "output_type": "execute_result"
    }
   ],
   "source": [
    "series_country1[['lab1','lab3']]\n",
    "\n",
    "### extracting using comma notation - grabbing individual values"
   ]
  },
  {
   "cell_type": "code",
   "execution_count": 79,
   "metadata": {},
   "outputs": [
    {
     "data": {
      "text/plain": [
       "lab3     senegal\n",
       "lab4    tanzania\n",
       "dtype: object"
      ]
     },
     "execution_count": 79,
     "metadata": {},
     "output_type": "execute_result"
    }
   ],
   "source": [
    "series_country1[['lab3','lab4']]\n"
   ]
  },
  {
   "cell_type": "markdown",
   "metadata": {},
   "source": [
    "### operations in series (vectorized operations)\n"
   ]
  },
  {
   "cell_type": "code",
   "execution_count": 81,
   "metadata": {},
   "outputs": [],
   "source": [
    "ser_1_vec = pd.Series([100,200,300,400,500],index=['i1','i2','i3','i4','i5'])"
   ]
  },
  {
   "cell_type": "code",
   "execution_count": 82,
   "metadata": {},
   "outputs": [],
   "source": [
    "ser_2_vec = pd.Series([500,1000,3000,5000,8000],index=['i6','i7','i1','i2','i8'])"
   ]
  },
  {
   "cell_type": "code",
   "execution_count": 83,
   "metadata": {},
   "outputs": [],
   "source": [
    "ser_3_vec = pd.Series([1000,2000,3000,400,500],index=['i1','i10','i13','i14','i15'])"
   ]
  },
  {
   "cell_type": "code",
   "execution_count": 84,
   "metadata": {},
   "outputs": [
    {
     "data": {
      "text/plain": [
       "i1    3100.0\n",
       "i2    5200.0\n",
       "i3       NaN\n",
       "i4       NaN\n",
       "i5       NaN\n",
       "i6       NaN\n",
       "i7       NaN\n",
       "i8       NaN\n",
       "dtype: float64"
      ]
     },
     "execution_count": 84,
     "metadata": {},
     "output_type": "execute_result"
    }
   ],
   "source": [
    "## add 2 series\n",
    "\n",
    "ser_1_vec + ser_2_vec"
   ]
  },
  {
   "cell_type": "code",
   "execution_count": 85,
   "metadata": {},
   "outputs": [
    {
     "data": {
      "text/plain": [
       "i1     300000.0\n",
       "i2    1000000.0\n",
       "i3          NaN\n",
       "i4          NaN\n",
       "i5          NaN\n",
       "i6          NaN\n",
       "i7          NaN\n",
       "i8          NaN\n",
       "dtype: float64"
      ]
     },
     "execution_count": 85,
     "metadata": {},
     "output_type": "execute_result"
    }
   ],
   "source": [
    "ser_1_vec * ser_2_vec"
   ]
  },
  {
   "cell_type": "code",
   "execution_count": 86,
   "metadata": {},
   "outputs": [
    {
     "ename": "ValueError",
     "evalue": "Can only compare identically-labeled Series objects",
     "output_type": "error",
     "traceback": [
      "\u001b[1;31m---------------------------------------------------------------------------\u001b[0m",
      "\u001b[1;31mValueError\u001b[0m                                Traceback (most recent call last)",
      "\u001b[1;32m<ipython-input-86-08063ecf1e5e>\u001b[0m in \u001b[0;36m<module>\u001b[1;34m()\u001b[0m\n\u001b[1;32m----> 1\u001b[1;33m \u001b[0mser_1_vec\u001b[0m \u001b[1;33m>\u001b[0m \u001b[0mser_2_vec\u001b[0m\u001b[1;33m\u001b[0m\u001b[0m\n\u001b[0m",
      "\u001b[1;32mD:\\anaconda\\lib\\site-packages\\pandas\\core\\ops.py\u001b[0m in \u001b[0;36mwrapper\u001b[1;34m(self, other, axis)\u001b[0m\n\u001b[0;32m   1185\u001b[0m \u001b[1;33m\u001b[0m\u001b[0m\n\u001b[0;32m   1186\u001b[0m         \u001b[1;32melif\u001b[0m \u001b[0misinstance\u001b[0m\u001b[1;33m(\u001b[0m\u001b[0mother\u001b[0m\u001b[1;33m,\u001b[0m \u001b[0mABCSeries\u001b[0m\u001b[1;33m)\u001b[0m \u001b[1;32mand\u001b[0m \u001b[1;32mnot\u001b[0m \u001b[0mself\u001b[0m\u001b[1;33m.\u001b[0m\u001b[0m_indexed_same\u001b[0m\u001b[1;33m(\u001b[0m\u001b[0mother\u001b[0m\u001b[1;33m)\u001b[0m\u001b[1;33m:\u001b[0m\u001b[1;33m\u001b[0m\u001b[0m\n\u001b[1;32m-> 1187\u001b[1;33m             raise ValueError(\"Can only compare identically-labeled \"\n\u001b[0m\u001b[0;32m   1188\u001b[0m                              \"Series objects\")\n\u001b[0;32m   1189\u001b[0m \u001b[1;33m\u001b[0m\u001b[0m\n",
      "\u001b[1;31mValueError\u001b[0m: Can only compare identically-labeled Series objects"
     ]
    }
   ],
   "source": [
    "ser_1_vec > ser_2_vec\n",
    "\n",
    "### the comparison will fail becausee the series objects need to be identically labeled. meaning the indexes need to be the same"
   ]
  },
  {
   "cell_type": "code",
   "execution_count": 5,
   "metadata": {},
   "outputs": [],
   "source": [
    "ser_3_vec = pd.Series([99,299,399,499,9],index=['i1','i2','i3','i4','i5'])"
   ]
  },
  {
   "cell_type": "code",
   "execution_count": 4,
   "metadata": {},
   "outputs": [],
   "source": [
    "ser_4_vec = pd.Series([101,10,20,50,11],index=['i1','i2','i3','i4','i5'])"
   ]
  },
  {
   "cell_type": "code",
   "execution_count": 6,
   "metadata": {},
   "outputs": [
    {
     "data": {
      "text/plain": [
       "i1    False\n",
       "i2     True\n",
       "i3     True\n",
       "i4     True\n",
       "i5    False\n",
       "dtype: bool"
      ]
     },
     "execution_count": 6,
     "metadata": {},
     "output_type": "execute_result"
    }
   ],
   "source": [
    "ser_3_vec > ser_4_vec"
   ]
  },
  {
   "cell_type": "code",
   "execution_count": 10,
   "metadata": {},
   "outputs": [
    {
     "data": {
      "text/plain": [
       "False"
      ]
     },
     "execution_count": 10,
     "metadata": {},
     "output_type": "execute_result"
    }
   ],
   "source": [
    "(ser_3_vec ['i1'] > ser_4_vec['i2'] ) and (ser_3_vec['i3'] < ser_4_vec['i4'])"
   ]
  },
  {
   "cell_type": "code",
   "execution_count": 12,
   "metadata": {},
   "outputs": [
    {
     "data": {
      "text/plain": [
       "True"
      ]
     },
     "execution_count": 12,
     "metadata": {},
     "output_type": "execute_result"
    }
   ],
   "source": [
    "(ser_3_vec ['i1'] > ser_4_vec['i2'] ) or (ser_3_vec['i3'] < ser_4_vec['i4'])"
   ]
  },
  {
   "cell_type": "code",
   "execution_count": 14,
   "metadata": {},
   "outputs": [
    {
     "data": {
      "text/plain": [
       "True"
      ]
     },
     "execution_count": 14,
     "metadata": {},
     "output_type": "execute_result"
    }
   ],
   "source": [
    "(ser_3_vec ['i1'] > ser_4_vec['i2'] ) != (ser_3_vec['i3'] < ser_4_vec['i4'])"
   ]
  },
  {
   "cell_type": "code",
   "execution_count": null,
   "metadata": {},
   "outputs": [],
   "source": []
  },
  {
   "cell_type": "markdown",
   "metadata": {},
   "source": [
    "# Data Frames in Pandas\n",
    "\n",
    "- Data frames are 2d data structures .\n",
    "- Data is aligned in a tabular format consists of rows and columns\n",
    "- DataFrames can hold multiple data types\n",
    "\n",
    "- DataFrames Constructor in pandas is\n",
    "        pd.DataFrames(data=,index=,dtype=,copy)\n",
    "       \n",
    "        data holds the data source\n",
    "        index holds the index to access the data source\n",
    "        dtype is type of the data\n",
    "        copy is self to false default. take a copy\n"
   ]
  },
  {
   "cell_type": "code",
   "execution_count": 26,
   "metadata": {},
   "outputs": [],
   "source": [
    "import numpy as np\n",
    "import pandas as pd"
   ]
  },
  {
   "cell_type": "code",
   "execution_count": 16,
   "metadata": {},
   "outputs": [],
   "source": [
    "#from numpy.random import randn"
   ]
  },
  {
   "cell_type": "code",
   "execution_count": 18,
   "metadata": {},
   "outputs": [],
   "source": [
    "np.random.seed(101)   #### this statement gets us the same set of random numbers everytime this notebook session is executed"
   ]
  },
  {
   "cell_type": "code",
   "execution_count": 25,
   "metadata": {},
   "outputs": [
    {
     "name": "stdout",
     "output_type": "stream",
     "text": [
      "[[-0.80465151  0.25354804  0.64914775  0.35894053]\n",
      " [-1.08047146  0.90239776  0.16178119  0.83302932]\n",
      " [ 0.97571968 -0.3882387   0.78331605 -0.70895374]\n",
      " [ 0.5868473  -1.62134783  0.67753511  0.02610548]\n",
      " [-1.67828366  0.3339731  -0.53247053  2.11772738]]\n"
     ]
    }
   ],
   "source": [
    "myrandom_data = randn(5,4)\n",
    "print(myrandom_data)"
   ]
  },
  {
   "cell_type": "code",
   "execution_count": 23,
   "metadata": {},
   "outputs": [],
   "source": [
    "myrandom_data1 = np.random.randn(6,4)"
   ]
  },
  {
   "cell_type": "code",
   "execution_count": 24,
   "metadata": {},
   "outputs": [
    {
     "name": "stdout",
     "output_type": "stream",
     "text": [
      "[[ 0.39248881  0.22149069 -0.85519604  1.54199041]\n",
      " [ 0.66631932 -0.53823463 -0.56858136  1.40733825]\n",
      " [ 0.64180551 -0.9050999  -0.39115663  1.02829316]\n",
      " [-1.9726051  -0.86688504  0.7207876  -1.22308204]\n",
      " [ 1.60677986 -1.11570997 -1.38537856 -1.32966006]\n",
      " [ 0.04145994 -0.4110554  -0.7713286   0.11047741]]\n"
     ]
    }
   ],
   "source": [
    "print(myrandom_data1)"
   ]
  },
  {
   "cell_type": "code",
   "execution_count": 29,
   "metadata": {},
   "outputs": [
    {
     "name": "stdout",
     "output_type": "stream",
     "text": [
      "          W         X         Y         Z\n",
      "A -0.804652  0.253548  0.649148  0.358941\n",
      "B -1.080471  0.902398  0.161781  0.833029\n",
      "C  0.975720 -0.388239  0.783316 -0.708954\n",
      "D  0.586847 -1.621348  0.677535  0.026105\n",
      "E -1.678284  0.333973 -0.532471  2.117727\n"
     ]
    }
   ],
   "source": [
    "#### creating a data frame useing random number generator randn\n",
    "### we are giubg to use the parameters data, index, columns\n",
    "\n",
    "mydf = pd.DataFrame(data=myrandom_data, index = ['A','B','C','D','E'], columns=['W','X','Y','Z'])\n",
    "print(mydf)"
   ]
  },
  {
   "cell_type": "markdown",
   "metadata": {},
   "source": [
    "##### CREATING A DATA FRAME FROM A LIST\n"
   ]
  },
  {
   "cell_type": "code",
   "execution_count": 30,
   "metadata": {},
   "outputs": [
    {
     "name": "stdout",
     "output_type": "stream",
     "text": [
      "[['a1', 'b1', 'c1'], ['a2', 'b2', 'c2'], ['a3', 'b3', 'c3']]\n"
     ]
    }
   ],
   "source": [
    "df_list = [['a1','b1','c1'],['a2','b2','c2'],['a3','b3','c3']]\n",
    "print(df_list)"
   ]
  },
  {
   "cell_type": "code",
   "execution_count": 31,
   "metadata": {},
   "outputs": [],
   "source": [
    "#### to create user defined index, let us create a list of index\n",
    "df_index = ['indx1','indx2','indx3']"
   ]
  },
  {
   "cell_type": "code",
   "execution_count": 35,
   "metadata": {},
   "outputs": [
    {
     "name": "stdout",
     "output_type": "stream",
     "text": [
      "      ColA ColB Colc\n",
      "indx1   a1   b1   c1\n",
      "indx2   a2   b2   c2\n",
      "indx3   a3   b3   c3\n"
     ]
    }
   ],
   "source": [
    "mylist_df = pd.DataFrame(data=df_list,index=df_index,columns=('ColA','ColB','Colc'))\n",
    "print(mylist_df)"
   ]
  },
  {
   "cell_type": "code",
   "execution_count": null,
   "metadata": {},
   "outputs": [],
   "source": []
  },
  {
   "cell_type": "code",
   "execution_count": null,
   "metadata": {},
   "outputs": [],
   "source": []
  },
  {
   "cell_type": "code",
   "execution_count": null,
   "metadata": {},
   "outputs": [],
   "source": []
  },
  {
   "cell_type": "code",
   "execution_count": null,
   "metadata": {},
   "outputs": [],
   "source": []
  }
 ],
 "metadata": {
  "kernelspec": {
   "display_name": "Python 3",
   "language": "python",
   "name": "python3"
  },
  "language_info": {
   "codemirror_mode": {
    "name": "ipython",
    "version": 3
   },
   "file_extension": ".py",
   "mimetype": "text/x-python",
   "name": "python",
   "nbconvert_exporter": "python",
   "pygments_lexer": "ipython3",
   "version": "3.6.5"
  }
 },
 "nbformat": 4,
 "nbformat_minor": 2
}
